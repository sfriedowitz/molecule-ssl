{
 "cells": [
  {
   "cell_type": "markdown",
   "id": "64746ab6-76fa-4ae4-8867-5d51c740b75f",
   "metadata": {},
   "source": [
    "# Imports"
   ]
  },
  {
   "cell_type": "code",
   "execution_count": 243,
   "id": "cc33a0d4-56c2-400a-86d8-9662335de563",
   "metadata": {},
   "outputs": [
    {
     "name": "stdout",
     "output_type": "stream",
     "text": [
      "The autoreload extension is already loaded. To reload it, use:\n",
      "  %reload_ext autoreload\n"
     ]
    }
   ],
   "source": [
    "%load_ext autoreload\n",
    "%autoreload 2"
   ]
  },
  {
   "cell_type": "code",
   "execution_count": 244,
   "id": "c5404831-f808-4f7a-a9ea-a554a0ad85e5",
   "metadata": {},
   "outputs": [],
   "source": [
    "import os\n",
    "\n",
    "import torch\n",
    "from torch_geometric.datasets import QM9\n",
    "\n",
    "from botorch.fit import fit_gpytorch_mll\n",
    "from botorch.models import SingleTaskGP\n",
    "from botorch.test_functions.synthetic import Rosenbrock, Michalewicz\n",
    "from gpytorch.mlls import ExactMarginalLogLikelihood\n",
    "\n",
    "import matplotlib.pyplot as plt\n",
    "\n",
    "from src.flory import FloryHuggins\n",
    "from src.utils import uniform_simplex"
   ]
  },
  {
   "cell_type": "markdown",
   "id": "0b437d72",
   "metadata": {},
   "source": [
    "# Gradient-based Optimization"
   ]
  },
  {
   "cell_type": "markdown",
   "id": "a902ba0b",
   "metadata": {},
   "source": [
    "## Objective"
   ]
  },
  {
   "cell_type": "code",
   "execution_count": 350,
   "metadata": {},
   "outputs": [],
   "source": [
    "n_components = 3\n",
    "objective = FloryHuggins(n_components, noise=0.05)\n",
    "objective.set_pairwise(0, 1, 2.0)\n",
    "objective.set_pairwise(1, 2, 5.0)\n",
    "objective.set_cubic(2, 2.0)\n",
    "objective.set_cubic(1, 0.25)"
   ]
  },
  {
   "cell_type": "code",
   "execution_count": 351,
   "id": "0b1dd5a5",
   "metadata": {},
   "outputs": [
    {
     "data": {
      "image/png": "[encoded data removed]",
      "text/plain": [
       "<Figure size 640x480 with 1 Axes>"
      ]
     },
     "metadata": {},
     "output_type": "display_data"
    }
   ],
   "source": [
    "n = 100\n",
    "\n",
    "\n",
    "x0_val = 0.25\n",
    "x0 = torch.full((n,), x0_val)\n",
    "x1 = torch.linspace(0.0, 1 - x0_val, n)\n",
    "x2 = 1.0 - x0 - x1\n",
    "\n",
    "x = torch.stack([x0, x1, x2], dim=1)\n",
    "y = objective(x)\n",
    "\n",
    "plt.scatter(x[:,1], y)\n",
    "plt.show()"
   ]
  },
  {
   "cell_type": "code",
   "execution_count": null,
   "id": "48500153",
   "metadata": {},
   "outputs": [],
   "source": []
  },
  {
   "cell_type": "markdown",
   "id": "caf7fc12",
   "metadata": {},
   "source": [
    "# Molecular Design\n"
   ]
  },
  {
   "cell_type": "markdown",
   "id": "8eba3eb4",
   "metadata": {},
   "source": [
    "## Dataset"
   ]
  },
  {
   "cell_type": "code",
   "execution_count": 18,
   "id": "0599f9ef",
   "metadata": {},
   "outputs": [],
   "source": [
    "dataset = QM9(root=\"data\")"
   ]
  },
  {
   "cell_type": "code",
   "execution_count": 12,
   "id": "84bc99cc",
   "metadata": {},
   "outputs": [
    {
     "data": {
      "text/plain": [
       "11"
      ]
     },
     "execution_count": 12,
     "metadata": {},
     "output_type": "execute_result"
    }
   ],
   "source": [
    "dataset[0].num_node_features"
   ]
  },
  {
   "cell_type": "code",
   "execution_count": 53,
   "id": "7e202f3f",
   "metadata": {},
   "outputs": [
    {
     "data": {
      "text/plain": [
       "tensor([6, 7, 6, 6, 6, 6, 6, 6, 7, 1, 1, 1, 1, 1, 1, 1, 1])"
      ]
     },
     "execution_count": 53,
     "metadata": {},
     "output_type": "execute_result"
    }
   ],
   "source": [
    "dataset[-3].z"
   ]
  },
  {
   "cell_type": "code",
   "execution_count": 54,
   "id": "8b713379",
   "metadata": {},
   "outputs": [
    {
     "data": {
      "text/plain": [
       "tensor([[0, 0, 0, 0, 1, 2, 3, 4],\n",
       "        [1, 2, 3, 4, 0, 0, 0, 0]])"
      ]
     },
     "execution_count": 54,
     "metadata": {},
     "output_type": "execute_result"
    }
   ],
   "source": [
    "dataset[0].edge_index"
   ]
  },
  {
   "cell_type": "code",
   "execution_count": null,
   "id": "871ccdb9",
   "metadata": {},
   "outputs": [],
   "source": []
  }
 ],
 "metadata": {
  "kernelspec": {
   "display_name": "pytorch",
   "language": "python",
   "name": "python3"
  },
  "language_info": {
   "codemirror_mode": {
    "name": "ipython",
    "version": 3
   },
   "file_extension": ".py",
   "mimetype": "text/x-python",
   "name": "python",
   "nbconvert_exporter": "python",
   "pygments_lexer": "ipython3",
   "version": "3.11.4"
  }
 },
 "nbformat": 4,
 "nbformat_minor": 5
}
