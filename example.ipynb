{
 "cells": [
  {
   "cell_type": "markdown",
   "id": "64746ab6-76fa-4ae4-8867-5d51c740b75f",
   "metadata": {},
   "source": [
    "# Imports"
   ]
  },
  {
   "cell_type": "code",
   "execution_count": 1,
   "id": "cc33a0d4-56c2-400a-86d8-9662335de563",
   "metadata": {},
   "outputs": [],
   "source": [
    "%load_ext autoreload\n",
    "%autoreload 2"
   ]
  },
  {
   "cell_type": "code",
   "execution_count": 2,
   "id": "c5404831-f808-4f7a-a9ea-a554a0ad85e5",
   "metadata": {},
   "outputs": [],
   "source": [
    "import os\n",
    "from tqdm import tqdm\n",
    "import pandas as pd\n",
    "\n",
    "import selfies as sf\n",
    "from rdkit import Chem\n",
    "from rdkit.Chem import Descriptors\n",
    "\n",
    "import torch\n",
    "import torch.nn.functional as F\n",
    "\n",
    "from src.selfies import SelfiesEncoder\n",
    "from src.vae import MolecularVAE"
   ]
  },
  {
   "cell_type": "code",
   "execution_count": 3,
   "id": "12580e9d",
   "metadata": {},
   "outputs": [],
   "source": [
    "import seaborn as sns\n",
    "import matplotlib.pyplot as plt\n",
    "\n",
    "sns.set(palette='colorblind', font_scale=1.3)\n",
    "palette = sns.color_palette()"
   ]
  },
  {
   "cell_type": "markdown",
   "id": "0a37cf5a",
   "metadata": {
    "jp-MarkdownHeadingCollapsed": true
   },
   "source": [
    "# Preprocessing"
   ]
  },
  {
   "cell_type": "markdown",
   "id": "71e42145",
   "metadata": {},
   "source": [
    "Download raw dataset:"
   ]
  },
  {
   "cell_type": "code",
   "execution_count": 7,
   "id": "5421052d",
   "metadata": {},
   "outputs": [],
   "source": [
    "dataset_url = \"https://deepchemdata.s3-us-west-1.amazonaws.com/datasets/qm9.csv\"\n",
    "\n",
    "raw_df = pd.read_csv(dataset_url)\n",
    "raw_df.to_csv(os.path.join(\"data\", \"qm9_raw.csv\"), index=False)"
   ]
  },
  {
   "cell_type": "markdown",
   "id": "02d405bf",
   "metadata": {},
   "source": [
    "Add selfies encoding to raw data:"
   ]
  },
  {
   "cell_type": "code",
   "execution_count": 248,
   "id": "48f2fe62",
   "metadata": {},
   "outputs": [],
   "source": [
    "def compute_logp(smile):\n",
    "    mol = Chem.MolFromSmiles(smile)\n",
    "    return Descriptors.MolLogP(mol)\n",
    "\n",
    "df = pd.read_csv(os.path.join(\"data\", \"qm9_raw.csv\"))\n",
    "df = df[[\"mol_id\", \"smiles\", \"mu\", \"alpha\", \"homo\", \"lumo\", \"gap\", \"r2\"]]\n",
    "#df = df.sample(n=5000, random_state=42)\n",
    "\n",
    "df[\"selfies\"] = [sf.encoder(x, strict=False) for x in df.smiles]\n",
    "df[\"logp\"] = [compute_logp(s) for s in df.smiles]\n",
    "\n",
    "df.to_csv(os.path.join(\"data\", \"qm9_processed.csv\"), index=False)"
   ]
  },
  {
   "cell_type": "markdown",
   "id": "6681f11c",
   "metadata": {},
   "source": [
    "Generate one-hot enocding for selfies strings:"
   ]
  },
  {
   "cell_type": "code",
   "execution_count": 5,
   "id": "4489efa8-e8ca-4dc8-a65d-ef78622ad3f0",
   "metadata": {},
   "outputs": [
    {
     "data": {
      "text/html": [
       "<div>\n",
       "<style scoped>\n",
       "    .dataframe tbody tr th:only-of-type {\n",
       "        vertical-align: middle;\n",
       "    }\n",
       "\n",
       "    .dataframe tbody tr th {\n",
       "        vertical-align: top;\n",
       "    }\n",
       "\n",
       "    .dataframe thead th {\n",
       "        text-align: right;\n",
       "    }\n",
       "</style>\n",
       "<table border=\"1\" class=\"dataframe\">\n",
       "  <thead>\n",
       "    <tr style=\"text-align: right;\">\n",
       "      <th></th>\n",
       "      <th>mol_id</th>\n",
       "      <th>smiles</th>\n",
       "      <th>mu</th>\n",
       "      <th>alpha</th>\n",
       "      <th>homo</th>\n",
       "      <th>lumo</th>\n",
       "      <th>gap</th>\n",
       "      <th>r2</th>\n",
       "      <th>selfies</th>\n",
       "      <th>logp</th>\n",
       "    </tr>\n",
       "  </thead>\n",
       "  <tbody>\n",
       "    <tr>\n",
       "      <th>0</th>\n",
       "      <td>gdb_1</td>\n",
       "      <td>C</td>\n",
       "      <td>0.0000</td>\n",
       "      <td>13.21</td>\n",
       "      <td>-0.3877</td>\n",
       "      <td>0.1171</td>\n",
       "      <td>0.5048</td>\n",
       "      <td>35.3641</td>\n",
       "      <td>[C]</td>\n",
       "      <td>0.63610</td>\n",
       "    </tr>\n",
       "    <tr>\n",
       "      <th>1</th>\n",
       "      <td>gdb_2</td>\n",
       "      <td>N</td>\n",
       "      <td>1.6256</td>\n",
       "      <td>9.46</td>\n",
       "      <td>-0.2570</td>\n",
       "      <td>0.0829</td>\n",
       "      <td>0.3399</td>\n",
       "      <td>26.1563</td>\n",
       "      <td>[N]</td>\n",
       "      <td>0.16200</td>\n",
       "    </tr>\n",
       "    <tr>\n",
       "      <th>2</th>\n",
       "      <td>gdb_3</td>\n",
       "      <td>O</td>\n",
       "      <td>1.8511</td>\n",
       "      <td>6.31</td>\n",
       "      <td>-0.2928</td>\n",
       "      <td>0.0687</td>\n",
       "      <td>0.3615</td>\n",
       "      <td>19.0002</td>\n",
       "      <td>[O]</td>\n",
       "      <td>-0.82470</td>\n",
       "    </tr>\n",
       "    <tr>\n",
       "      <th>3</th>\n",
       "      <td>gdb_4</td>\n",
       "      <td>C#C</td>\n",
       "      <td>0.0000</td>\n",
       "      <td>16.28</td>\n",
       "      <td>-0.2845</td>\n",
       "      <td>0.0506</td>\n",
       "      <td>0.3351</td>\n",
       "      <td>59.5248</td>\n",
       "      <td>[C][#C]</td>\n",
       "      <td>0.24940</td>\n",
       "    </tr>\n",
       "    <tr>\n",
       "      <th>4</th>\n",
       "      <td>gdb_5</td>\n",
       "      <td>C#N</td>\n",
       "      <td>2.8937</td>\n",
       "      <td>12.99</td>\n",
       "      <td>-0.3604</td>\n",
       "      <td>0.0191</td>\n",
       "      <td>0.3796</td>\n",
       "      <td>48.7476</td>\n",
       "      <td>[C][#N]</td>\n",
       "      <td>0.13978</td>\n",
       "    </tr>\n",
       "  </tbody>\n",
       "</table>\n",
       "</div>"
      ],
      "text/plain": [
       "  mol_id smiles      mu  alpha    homo    lumo     gap       r2  selfies  \\\n",
       "0  gdb_1      C  0.0000  13.21 -0.3877  0.1171  0.5048  35.3641      [C]   \n",
       "1  gdb_2      N  1.6256   9.46 -0.2570  0.0829  0.3399  26.1563      [N]   \n",
       "2  gdb_3      O  1.8511   6.31 -0.2928  0.0687  0.3615  19.0002      [O]   \n",
       "3  gdb_4    C#C  0.0000  16.28 -0.2845  0.0506  0.3351  59.5248  [C][#C]   \n",
       "4  gdb_5    C#N  2.8937  12.99 -0.3604  0.0191  0.3796  48.7476  [C][#N]   \n",
       "\n",
       "      logp  \n",
       "0  0.63610  \n",
       "1  0.16200  \n",
       "2 -0.82470  \n",
       "3  0.24940  \n",
       "4  0.13978  "
      ]
     },
     "execution_count": 5,
     "metadata": {},
     "output_type": "execute_result"
    }
   ],
   "source": [
    "df = pd.read_csv(os.path.join(\"data\", \"qm9_processed.csv\"))\n",
    "df.head()"
   ]
  },
  {
   "cell_type": "code",
   "execution_count": 6,
   "id": "e9ac9bb6",
   "metadata": {},
   "outputs": [],
   "source": [
    "selfies = df.selfies\n",
    "selfies_encoder = SelfiesEncoder.build(selfies)"
   ]
  },
  {
   "cell_type": "code",
   "execution_count": 251,
   "id": "41163ab3",
   "metadata": {},
   "outputs": [
    {
     "name": "stderr",
     "output_type": "stream",
     "text": [
      "100%|██████████████████████████████████████████████████████████████████████████████████████████| 133885/133885 [00:03<00:00, 36035.57it/s]\n"
     ]
    }
   ],
   "source": [
    "one_hots = []\n",
    "for s in tqdm(selfies):\n",
    "    one_hots.append(selfies_encoder.encode_one_hot(s))\n",
    "one_hots = torch.tensor(one_hots)\n",
    "torch.save(one_hots, os.path.join(data_path, \"qm9_encodings.pt\"))"
   ]
  },
  {
   "cell_type": "markdown",
   "id": "65eab2dc",
   "metadata": {},
   "source": [
    "# VAE"
   ]
  },
  {
   "cell_type": "code",
   "execution_count": 68,
   "id": "49b4a9ba",
   "metadata": {},
   "outputs": [],
   "source": [
    "def compute_loss(x, x_recon, z_mean, z_logvar):\n",
    "    # Cross entropy should be computed across one-hot labels, so transpose tensors so labels in dim=1\n",
    "    bce = F.cross_entropy(x_recon.transpose(2, 1), x.transpose(2, 1), reduction=\"sum\")\n",
    "    kld = -0.5 * torch.sum(1.0 + z_logvar - z_mean.pow(2) - z_logvar.exp())\n",
    "    return bce + kld\n",
    "\n",
    "def reconstruction_count(x, x_recon):\n",
    "    actual_labels = x.argmax(dim=-1)\n",
    "    recon_labels = x_recon.argmax(dim=-1)\n",
    "    return (recon_labels == actual_labels).all(dim=-1).sum().item()\n",
    "\n",
    "def train_one_epoch(model, optimizer, scheduler, data_loader):\n",
    "    model.train()\n",
    "\n",
    "    total_loss = 0.0\n",
    "    total_recon = 0\n",
    "    for batch in data_loader:\n",
    "        x = batch[0]\n",
    "\n",
    "        optimizer.zero_grad()\n",
    "        x_recon, z_mean, z_logvar = model(x)\n",
    "        loss = compute_loss(x, x_recon, z_mean, z_logvar)\n",
    "        loss.backward()\n",
    "        optimizer.step()\n",
    "        \n",
    "        total_loss += loss.item()\n",
    "        total_recon += reconstruction_count(x, x_recon)\n",
    "\n",
    "    if scheduler is not None:\n",
    "        scheduler.step()\n",
    "\n",
    "    n = len(data_loader.dataset)\n",
    "    return total_loss / n, total_recon / n\n",
    "\n",
    "@torch.no_grad()\n",
    "def test_one_epoch(model, data_loader):\n",
    "    model.eval()\n",
    "\n",
    "    total_loss = 0.0\n",
    "    total_recon = 0\n",
    "    for batch in data_loader:\n",
    "        x = batch[0]\n",
    "        x_recon, z_mean, z_logvar = model(x)\n",
    "        loss = compute_loss(x, x_recon, z_mean, z_logvar)\n",
    "        total_loss += loss.item()\n",
    "        total_recon += reconstruction_count(x, x_recon)\n",
    "\n",
    "    n = len(data_loader.dataset)\n",
    "    return total_loss / n, total_recon / n\n",
    "\n",
    "def train(model, optimizer, train_loader, test_loader, n_epochs, scheduler=None, print_every=10):    \n",
    "    train_losses, test_losses = [], []\n",
    "    train_accuracies, test_accuracies = [], []\n",
    "    for epoch in range(n_epochs):\n",
    "        train_loss_epoch, train_accuracy_epoch = train_one_epoch(model, optimizer, scheduler, train_loader)\n",
    "        train_losses.append(train_loss_epoch)\n",
    "        train_accuracies.append(train_accuracy_epoch)\n",
    "\n",
    "        test_loss_epoch, test_accuracy_epoch = test_one_epoch(model, train_loader)\n",
    "        test_losses.append(test_loss_epoch)\n",
    "        test_accuracies.append(test_accuracy_epoch)\n",
    "\n",
    "        if epoch == 0 or (epoch + 1) % print_every == 0:\n",
    "            current_lr = optimizer.param_groups[0][\"lr\"]\n",
    "            print(\n",
    "                f\"Epoch {epoch+1} | Train Loss = {train_loss_epoch:.4f} | Train Accuracy = {train_accuracy_epoch:.4f} | \"\n",
    "                f\"Test loss = {test_loss_epoch:.4f} | Test Accuracy = {test_accuracy_epoch:.4f} | \"\n",
    "                f\"LR = {current_lr:.3e}\"\n",
    "            )\n",
    "    \n",
    "    return train_losses, test_losses"
   ]
  },
  {
   "cell_type": "code",
   "execution_count": 69,
   "id": "12dc7e24",
   "metadata": {},
   "outputs": [],
   "source": [
    "torch.manual_seed(42)\n",
    "device = device = 'cuda' if torch.cuda.is_available() else 'cpu'\n",
    "\n",
    "x = torch.load(os.path.join(\"data\", \"qm9_encodings.pt\"))\n",
    "x = x.float().to(device)\n",
    "full_dataset =  torch.utils.data.TensorDataset(x)\n",
    "\n",
    "test_frac = 0.1\n",
    "test_size = int(test_frac * len(x))\n",
    "train_size = len(x) - test_size\n",
    "\n",
    "train_dataset, test_dataset = torch.utils.data.random_split(full_dataset, [train_size, test_size])"
   ]
  },
  {
   "cell_type": "code",
   "execution_count": 70,
   "id": "d1503849-0892-4437-9a71-32219f448eee",
   "metadata": {},
   "outputs": [],
   "source": [
    "batch_size = 250\n",
    "\n",
    "train_loader = torch.utils.data.DataLoader(train_dataset, batch_size=batch_size, shuffle=True)\n",
    "test_loader = torch.utils.data.DataLoader(test_dataset, batch_size=batch_size, shuffle=True)"
   ]
  },
  {
   "cell_type": "code",
   "execution_count": 71,
   "id": "0560f14e-f840-438f-b1c0-7e9dd6799529",
   "metadata": {},
   "outputs": [
    {
     "name": "stdout",
     "output_type": "stream",
     "text": [
      "# Parameters = 673235\n"
     ]
    },
    {
     "data": {
      "text/plain": [
       "MolecularVAE(\n",
       "  (encoder_conv): Sequential(\n",
       "    (0): Conv1d(29, 9, kernel_size=(9,), stride=(1,), padding=(2,))\n",
       "    (1): ReLU()\n",
       "    (2): Conv1d(9, 9, kernel_size=(9,), stride=(1,), padding=(2,))\n",
       "    (3): ReLU()\n",
       "    (4): Conv1d(9, 10, kernel_size=(10,), stride=(1,), padding=(2,))\n",
       "    (5): ReLU()\n",
       "  )\n",
       "  (encoder_linear): Sequential(\n",
       "    (0): Linear(in_features=80, out_features=150, bias=True)\n",
       "    (1): SELU()\n",
       "  )\n",
       "  (encoder_mean): Linear(in_features=150, out_features=50, bias=True)\n",
       "  (encoder_logvar): Linear(in_features=150, out_features=50, bias=True)\n",
       "  (decoder_linear): Sequential(\n",
       "    (0): Linear(in_features=50, out_features=50, bias=True)\n",
       "    (1): SELU()\n",
       "  )\n",
       "  (decoder_gru): GRU(50, 200, num_layers=3, batch_first=True)\n",
       "  (decoder_output): Linear(in_features=200, out_features=29, bias=True)\n",
       ")"
      ]
     },
     "execution_count": 71,
     "metadata": {},
     "output_type": "execute_result"
    }
   ],
   "source": [
    "model = MolecularVAE(latent_size=50\n",
    ")\n",
    "print(f\"# Parameters = {model.n_parameters()}\")\n",
    "model.to(device)\n",
    "model"
   ]
  },
  {
   "cell_type": "code",
   "execution_count": 72,
   "id": "403cd55b-8cdc-4478-ac18-457a496fc672",
   "metadata": {},
   "outputs": [],
   "source": [
    "learning_rate = 2.5e-3\n",
    "weight_decay = 1e-5\n",
    "\n",
    "optimizer = torch.optim.Adam(\n",
    "    model.parameters(), \n",
    "    lr=learning_rate, \n",
    "    weight_decay=weight_decay,\n",
    ")\n",
    "\n",
    "scheduler = torch.optim.lr_scheduler.StepLR(optimizer, step_size=100, gamma=0.5)"
   ]
  },
  {
   "cell_type": "code",
   "execution_count": null,
   "id": "4a1028f8",
   "metadata": {},
   "outputs": [
    {
     "name": "stdout",
     "output_type": "stream",
     "text": [
      "Epoch 1 | Train Loss = 28.4400 | Train Accuracy = 0.0000 | Test loss = 26.6776 | Test Accuracy = 0.0000 | LR = 2.500e-03\n",
      "Epoch 2 | Train Loss = 26.4353 | Train Accuracy = 0.0000 | Test loss = 26.0853 | Test Accuracy = 0.0000 | LR = 2.500e-03\n",
      "Epoch 3 | Train Loss = 25.8056 | Train Accuracy = 0.0000 | Test loss = 25.2597 | Test Accuracy = 0.0000 | LR = 2.500e-03\n",
      "Epoch 4 | Train Loss = 25.5851 | Train Accuracy = 0.0000 | Test loss = 24.9456 | Test Accuracy = 0.0000 | LR = 2.500e-03\n",
      "Epoch 5 | Train Loss = 24.9332 | Train Accuracy = 0.0000 | Test loss = 24.6077 | Test Accuracy = 0.0001 | LR = 2.500e-03\n"
     ]
    }
   ],
   "source": [
    "n_epochs = 250\n",
    "train_losses, test_losses = train(\n",
    "    model, \n",
    "    optimizer, \n",
    "    train_loader, \n",
    "    test_loader, \n",
    "    n_epochs=n_epochs,\n",
    "    scheduler=scheduler,\n",
    "    print_every=1\n",
    ")"
   ]
  },
  {
   "cell_type": "code",
   "execution_count": 258,
   "id": "88f0009f-51ca-481d-82e8-d166640d9497",
   "metadata": {},
   "outputs": [
    {
     "data": {
      "image/png": "[encoded data removed]",
      "text/plain": [
       "<Figure size 800x500 with 1 Axes>"
      ]
     },
     "metadata": {},
     "output_type": "display_data"
    }
   ],
   "source": [
    "_, ax = plt.subplots(1, 1, figsize=(8, 5))\n",
    "ax.plot(range(1, n_epochs + 1), train_losses, label='Train loss')\n",
    "ax.plot(range(1, n_epochs + 1), test_losses, label='Test loss')\n",
    "ax.set_xlabel('Epoch')\n",
    "ax.set_ylabel('Loss')\n",
    "ax.legend()\n",
    "\n",
    "plt.show()"
   ]
  },
  {
   "cell_type": "markdown",
   "id": "ed7d0880",
   "metadata": {
    "jp-MarkdownHeadingCollapsed": true
   },
   "source": [
    "# Flory"
   ]
  },
  {
   "cell_type": "code",
   "execution_count": 5,
   "id": "b90e2278",
   "metadata": {},
   "outputs": [],
   "source": [
    "n_components = 2\n",
    "objective = FloryHuggins(n_components)\n",
    "objective.set_size(0, 1)\n",
    "objective.set_pairwise(0, 1, 3.0)"
   ]
  },
  {
   "cell_type": "code",
   "execution_count": 6,
   "id": "0b1dd5a5",
   "metadata": {},
   "outputs": [
    {
     "data": {
      "image/png": "[encoded data removed]",
      "text/plain": [
       "<Figure size 640x480 with 1 Axes>"
      ]
     },
     "metadata": {},
     "output_type": "display_data"
    }
   ],
   "source": [
    "n = 1000\n",
    "\n",
    "x0 = torch.linspace(0.0, 1.0, n)\n",
    "x1 = 1.0 - x0\n",
    "\n",
    "x = torch.stack([x0, x1], dim=1)\n",
    "y = objective(x)\n",
    "\n",
    "plt.scatter(x[:,1], y)\n",
    "plt.show()"
   ]
  }
 ],
 "metadata": {
  "kernelspec": {
   "display_name": "Python 3 (ipykernel)",
   "language": "python",
   "name": "python3"
  },
  "language_info": {
   "codemirror_mode": {
    "name": "ipython",
    "version": 3
   },
   "file_extension": ".py",
   "mimetype": "text/x-python",
   "name": "python",
   "nbconvert_exporter": "python",
   "pygments_lexer": "ipython3",
   "version": "3.11.4"
  }
 },
 "nbformat": 4,
 "nbformat_minor": 5
}
