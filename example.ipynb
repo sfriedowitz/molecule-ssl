{
 "cells": [
  {
   "cell_type": "markdown",
   "id": "64746ab6-76fa-4ae4-8867-5d51c740b75f",
   "metadata": {},
   "source": [
    "# Imports"
   ]
  },
  {
   "cell_type": "code",
   "execution_count": 1,
   "id": "cc33a0d4-56c2-400a-86d8-9662335de563",
   "metadata": {},
   "outputs": [],
   "source": [
    "%load_ext autoreload\n",
    "%autoreload 2"
   ]
  },
  {
   "cell_type": "code",
   "execution_count": 2,
   "id": "c5404831-f808-4f7a-a9ea-a554a0ad85e5",
   "metadata": {},
   "outputs": [],
   "source": [
    "import os\n",
    "\n",
    "import torch\n",
    "from torch_geometric.datasets import QM9\n",
    "\n",
    "from botorch.fit import fit_gpytorch_mll\n",
    "from botorch.models import SingleTaskGP\n",
    "from botorch.test_functions.synthetic import Rosenbrock, Michalewicz\n",
    "from gpytorch.mlls import ExactMarginalLogLikelihood"
   ]
  },
  {
   "cell_type": "code",
   "execution_count": 3,
   "id": "17196692-b5cf-4763-b892-1c308e62f0f4",
   "metadata": {},
   "outputs": [],
   "source": [
    "import matplotlib.pyplot as plt"
   ]
  },
  {
   "cell_type": "markdown",
   "id": "0b437d72",
   "metadata": {},
   "source": [
    "# Gradient-based Optimization"
   ]
  },
  {
   "cell_type": "markdown",
   "id": "a902ba0b",
   "metadata": {},
   "source": [
    "## Objective"
   ]
  },
  {
   "cell_type": "code",
   "execution_count": 84,
   "id": "2c2bedd3",
   "metadata": {},
   "outputs": [],
   "source": [
    "from src.flory import FloryHuggins"
   ]
  },
  {
   "cell_type": "code",
   "execution_count": 98,
   "metadata": {},
   "outputs": [
    {
     "data": {
      "text/plain": [
       "tensor([[ 0.0000,  5.0000,  2.5000],\n",
       "        [ 5.0000,  0.0000, -5.0000],\n",
       "        [ 2.5000, -5.0000,  0.0000]])"
      ]
     },
     "execution_count": 98,
     "metadata": {},
     "output_type": "execute_result"
    }
   ],
   "source": [
    "n_components = 3\n",
    "objective = FloryHuggins(n_components, noise=0.0)\n",
    "objective.set_pairwise(0, 1, 5.0)\n",
    "objective.set_pairwise(1, 2, -5.0)\n",
    "objective.set_pairwise(0, 2, 2.5)\n",
    "\n",
    "objective.pairwise"
   ]
  },
  {
   "cell_type": "code",
   "execution_count": 101,
   "id": "afb6932e",
   "metadata": {},
   "outputs": [
    {
     "data": {
      "text/plain": [
       "tensor(-0.0183)"
      ]
     },
     "execution_count": 101,
     "metadata": {},
     "output_type": "execute_result"
    }
   ],
   "source": [
    "x = torch.tensor([0.5, 0.4, 0.1])\n",
    "\n",
    "objective(x)"
   ]
  },
  {
   "cell_type": "markdown",
   "id": "caf7fc12",
   "metadata": {},
   "source": [
    "# Molecular Design\n"
   ]
  },
  {
   "cell_type": "markdown",
   "id": "8eba3eb4",
   "metadata": {},
   "source": [
    "## Dataset"
   ]
  },
  {
   "cell_type": "code",
   "execution_count": 18,
   "id": "0599f9ef",
   "metadata": {},
   "outputs": [],
   "source": [
    "dataset = QM9(root=\"data\")"
   ]
  },
  {
   "cell_type": "code",
   "execution_count": 12,
   "id": "84bc99cc",
   "metadata": {},
   "outputs": [
    {
     "data": {
      "text/plain": [
       "11"
      ]
     },
     "execution_count": 12,
     "metadata": {},
     "output_type": "execute_result"
    }
   ],
   "source": [
    "dataset[0].num_node_features"
   ]
  },
  {
   "cell_type": "code",
   "execution_count": 53,
   "id": "7e202f3f",
   "metadata": {},
   "outputs": [
    {
     "data": {
      "text/plain": [
       "tensor([6, 7, 6, 6, 6, 6, 6, 6, 7, 1, 1, 1, 1, 1, 1, 1, 1])"
      ]
     },
     "execution_count": 53,
     "metadata": {},
     "output_type": "execute_result"
    }
   ],
   "source": [
    "dataset[-3].z"
   ]
  },
  {
   "cell_type": "code",
   "execution_count": 54,
   "id": "8b713379",
   "metadata": {},
   "outputs": [
    {
     "data": {
      "text/plain": [
       "tensor([[0, 0, 0, 0, 1, 2, 3, 4],\n",
       "        [1, 2, 3, 4, 0, 0, 0, 0]])"
      ]
     },
     "execution_count": 54,
     "metadata": {},
     "output_type": "execute_result"
    }
   ],
   "source": [
    "dataset[0].edge_index"
   ]
  },
  {
   "cell_type": "code",
   "execution_count": null,
   "id": "871ccdb9",
   "metadata": {},
   "outputs": [],
   "source": []
  }
 ],
 "metadata": {
  "kernelspec": {
   "display_name": "pytorch",
   "language": "python",
   "name": "python3"
  },
  "language_info": {
   "codemirror_mode": {
    "name": "ipython",
    "version": 3
   },
   "file_extension": ".py",
   "mimetype": "text/x-python",
   "name": "python",
   "nbconvert_exporter": "python",
   "pygments_lexer": "ipython3",
   "version": "3.11.4"
  }
 },
 "nbformat": 4,
 "nbformat_minor": 5
}
