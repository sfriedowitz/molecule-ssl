{
 "cells": [
  {
   "cell_type": "markdown",
   "id": "64746ab6-76fa-4ae4-8867-5d51c740b75f",
   "metadata": {},
   "source": [
    "# Imports"
   ]
  },
  {
   "cell_type": "code",
   "execution_count": 1,
   "id": "cc33a0d4-56c2-400a-86d8-9662335de563",
   "metadata": {},
   "outputs": [],
   "source": [
    "%load_ext autoreload\n",
    "%autoreload 2"
   ]
  },
  {
   "cell_type": "code",
   "execution_count": 2,
   "id": "c5404831-f808-4f7a-a9ea-a554a0ad85e5",
   "metadata": {},
   "outputs": [],
   "source": [
    "import os\n",
    "from tqdm import tqdm\n",
    "import pandas as pd\n",
    "\n",
    "import selfies as sf\n",
    "from rdkit import Chem\n",
    "from rdkit.Chem import Descriptors\n",
    "\n",
    "import torch\n",
    "import torch.nn.functional as F\n",
    "\n",
    "from src.selfies import SelfiesEncoder\n",
    "from src.vae import MolecularVAE"
   ]
  },
  {
   "cell_type": "code",
   "execution_count": 3,
   "id": "12580e9d",
   "metadata": {},
   "outputs": [],
   "source": [
    "import seaborn as sns\n",
    "import matplotlib.pyplot as plt\n",
    "\n",
    "sns.set(palette='colorblind', font_scale=1.3)\n",
    "palette = sns.color_palette()"
   ]
  },
  {
   "cell_type": "markdown",
   "id": "0a37cf5a",
   "metadata": {
    "jp-MarkdownHeadingCollapsed": true
   },
   "source": [
    "# Preprocessing"
   ]
  },
  {
   "cell_type": "markdown",
   "id": "71e42145",
   "metadata": {},
   "source": [
    "Download raw dataset:"
   ]
  },
  {
   "cell_type": "code",
   "execution_count": 7,
   "id": "5421052d",
   "metadata": {},
   "outputs": [],
   "source": [
    "dataset_url = \"https://deepchemdata.s3-us-west-1.amazonaws.com/datasets/qm9.csv\"\n",
    "\n",
    "raw_df = pd.read_csv(dataset_url)\n",
    "raw_df.to_csv(os.path.join(\"data\", \"qm9_raw.csv\"), index=False)"
   ]
  },
  {
   "cell_type": "markdown",
   "id": "02d405bf",
   "metadata": {},
   "source": [
    "Add selfies encoding to raw data:"
   ]
  },
  {
   "cell_type": "code",
   "execution_count": 248,
   "id": "48f2fe62",
   "metadata": {},
   "outputs": [],
   "source": [
    "def compute_logp(smile):\n",
    "    mol = Chem.MolFromSmiles(smile)\n",
    "    return Descriptors.MolLogP(mol)\n",
    "\n",
    "df = pd.read_csv(os.path.join(\"data\", \"qm9_raw.csv\"))\n",
    "df = df[[\"mol_id\", \"smiles\", \"mu\", \"alpha\", \"homo\", \"lumo\", \"gap\", \"r2\"]]\n",
    "#df = df.sample(n=5000, random_state=42)\n",
    "\n",
    "df[\"selfies\"] = [sf.encoder(x, strict=False) for x in df.smiles]\n",
    "df[\"logp\"] = [compute_logp(s) for s in df.smiles]\n",
    "\n",
    "df.to_csv(os.path.join(\"data\", \"qm9_processed.csv\"), index=False)"
   ]
  },
  {
   "cell_type": "markdown",
   "id": "6681f11c",
   "metadata": {},
   "source": [
    "Generate one-hot enocding for selfies strings:"
   ]
  },
  {
   "cell_type": "code",
   "execution_count": 4,
   "id": "4489efa8-e8ca-4dc8-a65d-ef78622ad3f0",
   "metadata": {},
   "outputs": [
    {
     "data": {
      "text/html": [
       "<div>\n",
       "<style scoped>\n",
       "    .dataframe tbody tr th:only-of-type {\n",
       "        vertical-align: middle;\n",
       "    }\n",
       "\n",
       "    .dataframe tbody tr th {\n",
       "        vertical-align: top;\n",
       "    }\n",
       "\n",
       "    .dataframe thead th {\n",
       "        text-align: right;\n",
       "    }\n",
       "</style>\n",
       "<table border=\"1\" class=\"dataframe\">\n",
       "  <thead>\n",
       "    <tr style=\"text-align: right;\">\n",
       "      <th></th>\n",
       "      <th>mol_id</th>\n",
       "      <th>smiles</th>\n",
       "      <th>mu</th>\n",
       "      <th>alpha</th>\n",
       "      <th>homo</th>\n",
       "      <th>lumo</th>\n",
       "      <th>gap</th>\n",
       "      <th>r2</th>\n",
       "      <th>selfies</th>\n",
       "      <th>logp</th>\n",
       "    </tr>\n",
       "  </thead>\n",
       "  <tbody>\n",
       "    <tr>\n",
       "      <th>0</th>\n",
       "      <td>gdb_1</td>\n",
       "      <td>C</td>\n",
       "      <td>0.0000</td>\n",
       "      <td>13.21</td>\n",
       "      <td>-0.3877</td>\n",
       "      <td>0.1171</td>\n",
       "      <td>0.5048</td>\n",
       "      <td>35.3641</td>\n",
       "      <td>[C]</td>\n",
       "      <td>0.63610</td>\n",
       "    </tr>\n",
       "    <tr>\n",
       "      <th>1</th>\n",
       "      <td>gdb_2</td>\n",
       "      <td>N</td>\n",
       "      <td>1.6256</td>\n",
       "      <td>9.46</td>\n",
       "      <td>-0.2570</td>\n",
       "      <td>0.0829</td>\n",
       "      <td>0.3399</td>\n",
       "      <td>26.1563</td>\n",
       "      <td>[N]</td>\n",
       "      <td>0.16200</td>\n",
       "    </tr>\n",
       "    <tr>\n",
       "      <th>2</th>\n",
       "      <td>gdb_3</td>\n",
       "      <td>O</td>\n",
       "      <td>1.8511</td>\n",
       "      <td>6.31</td>\n",
       "      <td>-0.2928</td>\n",
       "      <td>0.0687</td>\n",
       "      <td>0.3615</td>\n",
       "      <td>19.0002</td>\n",
       "      <td>[O]</td>\n",
       "      <td>-0.82470</td>\n",
       "    </tr>\n",
       "    <tr>\n",
       "      <th>3</th>\n",
       "      <td>gdb_4</td>\n",
       "      <td>C#C</td>\n",
       "      <td>0.0000</td>\n",
       "      <td>16.28</td>\n",
       "      <td>-0.2845</td>\n",
       "      <td>0.0506</td>\n",
       "      <td>0.3351</td>\n",
       "      <td>59.5248</td>\n",
       "      <td>[C][#C]</td>\n",
       "      <td>0.24940</td>\n",
       "    </tr>\n",
       "    <tr>\n",
       "      <th>4</th>\n",
       "      <td>gdb_5</td>\n",
       "      <td>C#N</td>\n",
       "      <td>2.8937</td>\n",
       "      <td>12.99</td>\n",
       "      <td>-0.3604</td>\n",
       "      <td>0.0191</td>\n",
       "      <td>0.3796</td>\n",
       "      <td>48.7476</td>\n",
       "      <td>[C][#N]</td>\n",
       "      <td>0.13978</td>\n",
       "    </tr>\n",
       "  </tbody>\n",
       "</table>\n",
       "</div>"
      ],
      "text/plain": [
       "  mol_id smiles      mu  alpha    homo    lumo     gap       r2  selfies  \\\n",
       "0  gdb_1      C  0.0000  13.21 -0.3877  0.1171  0.5048  35.3641      [C]   \n",
       "1  gdb_2      N  1.6256   9.46 -0.2570  0.0829  0.3399  26.1563      [N]   \n",
       "2  gdb_3      O  1.8511   6.31 -0.2928  0.0687  0.3615  19.0002      [O]   \n",
       "3  gdb_4    C#C  0.0000  16.28 -0.2845  0.0506  0.3351  59.5248  [C][#C]   \n",
       "4  gdb_5    C#N  2.8937  12.99 -0.3604  0.0191  0.3796  48.7476  [C][#N]   \n",
       "\n",
       "      logp  \n",
       "0  0.63610  \n",
       "1  0.16200  \n",
       "2 -0.82470  \n",
       "3  0.24940  \n",
       "4  0.13978  "
      ]
     },
     "execution_count": 4,
     "metadata": {},
     "output_type": "execute_result"
    }
   ],
   "source": [
    "df = pd.read_csv(os.path.join(\"data\", \"qm9_processed.csv\"))\n",
    "df.head()"
   ]
  },
  {
   "cell_type": "code",
   "execution_count": 5,
   "id": "e9ac9bb6",
   "metadata": {},
   "outputs": [],
   "source": [
    "selfies = df.selfies\n",
    "selfies_encoder = SelfiesEncoder.build(selfies)"
   ]
  },
  {
   "cell_type": "code",
   "execution_count": 251,
   "id": "41163ab3",
   "metadata": {},
   "outputs": [
    {
     "name": "stderr",
     "output_type": "stream",
     "text": [
      "100%|██████████████████████████████████████████████████████████████████████████████████████████| 133885/133885 [00:03<00:00, 36035.57it/s]\n"
     ]
    }
   ],
   "source": [
    "one_hots = []\n",
    "for s in tqdm(selfies):\n",
    "    one_hots.append(selfies_encoder.encode_one_hot(s))\n",
    "one_hots = torch.tensor(one_hots)\n",
    "torch.save(one_hots, os.path.join(data_path, \"qm9_encodings.pt\"))"
   ]
  },
  {
   "cell_type": "markdown",
   "id": "65eab2dc",
   "metadata": {},
   "source": [
    "# VAE"
   ]
  },
  {
   "cell_type": "code",
   "execution_count": 15,
   "id": "49b4a9ba",
   "metadata": {},
   "outputs": [],
   "source": [
    "def compute_loss(x, x_recon, z_mean, z_logvar):\n",
    "    # Cross entropy should be computed across one-hot labels, so transpose tensors so labels in dim=1\n",
    "    bce = F.cross_entropy(x_recon.transpose(2, 1), x.transpose(2, 1), reduction=\"sum\")\n",
    "    kld = -0.5 * torch.sum(1.0 + z_logvar - z_mean.pow(2) - z_logvar.exp())\n",
    "    return bce + kld\n",
    "\n",
    "def reconstruction_count(x, x_recon):\n",
    "    actual_labels = x.argmax(dim=-1)\n",
    "    recon_labels = x_recon.argmax(dim=-1)\n",
    "    return (recon_labels == actual_labels).all(dim=-1).sum().item()\n",
    "\n",
    "def train_one_epoch(model, optimizer, scheduler, data_loader):\n",
    "    model.train()\n",
    "\n",
    "    total_loss = 0.0\n",
    "    total_recon = 0\n",
    "    for x, _ in data_loader:\n",
    "        optimizer.zero_grad()\n",
    "        x_recon, z_mean, z_logvar = model(x)\n",
    "        loss = compute_loss(x, x_recon, z_mean, z_logvar)\n",
    "        loss.backward()\n",
    "        optimizer.step()\n",
    "        \n",
    "        total_loss += loss.item()\n",
    "        total_recon += reconstruction_count(x, x_recon)\n",
    "\n",
    "    if scheduler is not None:\n",
    "        scheduler.step()\n",
    "\n",
    "    n = len(data_loader.dataset)\n",
    "    return total_loss / n, total_recon / n\n",
    "\n",
    "@torch.no_grad()\n",
    "def test_one_epoch(model, data_loader):\n",
    "    model.eval()\n",
    "\n",
    "    total_loss = 0.0\n",
    "    total_recon = 0\n",
    "    for x, _ in data_loader:\n",
    "        x_recon, z_mean, z_logvar = model(x)\n",
    "        loss = compute_loss(x, x_recon, z_mean, z_logvar)\n",
    "        total_loss += loss.item()\n",
    "        total_recon += reconstruction_count(x, x_recon)\n",
    "\n",
    "    n = len(data_loader.dataset)\n",
    "    return total_loss / n, total_recon / n\n",
    "\n",
    "def train(model, optimizer, train_loader, test_loader, n_epochs, scheduler=None, print_every=10):    \n",
    "    train_losses, test_losses = [], []\n",
    "    train_accuracies, test_accuracies = [], []\n",
    "    for epoch in range(n_epochs):\n",
    "        train_loss_epoch, train_accuracy_epoch = train_one_epoch(model, optimizer, scheduler, train_loader)\n",
    "        train_losses.append(train_loss_epoch)\n",
    "        train_accuracies.append(train_accuracy_epoch)\n",
    "\n",
    "        test_loss_epoch, test_accuracy_epoch = test_one_epoch(model, train_loader)\n",
    "        test_losses.append(test_loss_epoch)\n",
    "        test_accuracies.append(test_accuracy_epoch)\n",
    "\n",
    "        if epoch == 0 or (epoch + 1) % print_every == 0:\n",
    "            current_lr = optimizer.param_groups[0][\"lr\"]\n",
    "            print(\n",
    "                f\"Epoch {epoch+1} | Train Loss = {train_loss_epoch:.4f} | Test loss = {test_loss_epoch:.4f} | \"\n",
    "                f\"Train Accuracy = {train_accuracy_epoch:.4f} | Test Accuracy = {test_accuracy_epoch:.4f} | \"\n",
    "                f\"LR = {current_lr:.3e}\"\n",
    "            )\n",
    "    \n",
    "    return train_losses, test_losses"
   ]
  },
  {
   "cell_type": "code",
   "execution_count": 16,
   "id": "12dc7e24",
   "metadata": {},
   "outputs": [],
   "source": [
    "torch.manual_seed(42)\n",
    "device = device = 'cuda' if torch.cuda.is_available() else 'cpu'\n",
    "\n",
    "x = torch.load(os.path.join(\"data\", \"qm9_encodings.pt\"))\n",
    "x = x.float().to(device)\n",
    "full_dataset =  torch.utils.data.TensorDataset(x)\n",
    "\n",
    "test_frac = 0.1\n",
    "test_size = int(test_frac * len(x))\n",
    "train_size = len(x) - test_size\n",
    "\n",
    "train_dataset, test_dataset = torch.utils.data.random_split(full_dataset, [train_size, test_size])"
   ]
  },
  {
   "cell_type": "code",
   "execution_count": 17,
   "id": "d1503849-0892-4437-9a71-32219f448eee",
   "metadata": {},
   "outputs": [],
   "source": [
    "batch_size = 250\n",
    "\n",
    "train_loader = torch.utils.data.DataLoader(train_dataset, batch_size=batch_size, shuffle=True)\n",
    "test_loader = torch.utils.data.DataLoader(test_dataset, batch_size=batch_size, shuffle=True)"
   ]
  },
  {
   "cell_type": "code",
   "execution_count": 18,
   "id": "0560f14e-f840-438f-b1c0-7e9dd6799529",
   "metadata": {},
   "outputs": [
    {
     "name": "stdout",
     "output_type": "stream",
     "text": [
      "# Parameters = 673235\n"
     ]
    },
    {
     "data": {
      "text/plain": [
       "MolecularVAE(\n",
       "  (encoder_conv): Sequential(\n",
       "    (0): Conv1d(29, 9, kernel_size=(9,), stride=(1,), padding=(2,))\n",
       "    (1): ReLU()\n",
       "    (2): Conv1d(9, 9, kernel_size=(9,), stride=(1,), padding=(2,))\n",
       "    (3): ReLU()\n",
       "    (4): Conv1d(9, 10, kernel_size=(10,), stride=(1,), padding=(2,))\n",
       "    (5): ReLU()\n",
       "  )\n",
       "  (encoder_linear): Sequential(\n",
       "    (0): Linear(in_features=80, out_features=150, bias=True)\n",
       "    (1): SELU()\n",
       "  )\n",
       "  (encoder_mean): Linear(in_features=150, out_features=50, bias=True)\n",
       "  (encoder_logvar): Linear(in_features=150, out_features=50, bias=True)\n",
       "  (decoder_linear): Sequential(\n",
       "    (0): Linear(in_features=50, out_features=50, bias=True)\n",
       "    (1): SELU()\n",
       "  )\n",
       "  (decoder_gru): GRU(50, 200, num_layers=3, batch_first=True)\n",
       "  (decoder_output): Linear(in_features=200, out_features=29, bias=True)\n",
       ")"
      ]
     },
     "execution_count": 18,
     "metadata": {},
     "output_type": "execute_result"
    }
   ],
   "source": [
    "model = MolecularVAE(latent_size=50)\n",
    "model.to(device)\n",
    "\n",
    "print(f\"# Parameters = {model.n_parameters()}\")\n",
    "model"
   ]
  },
  {
   "cell_type": "code",
   "execution_count": 19,
   "id": "403cd55b-8cdc-4478-ac18-457a496fc672",
   "metadata": {},
   "outputs": [],
   "source": [
    "learning_rate = 2e-3\n",
    "weight_decay = 1e-5\n",
    "\n",
    "optimizer = torch.optim.Adam(\n",
    "    model.parameters(), \n",
    "    lr=learning_rate, \n",
    "    weight_decay=weight_decay,\n",
    ")\n",
    "\n",
    "scheduler = torch.optim.lr_scheduler.StepLR(optimizer, step_size=50, gamma=0.5)"
   ]
  },
  {
   "cell_type": "code",
   "execution_count": 22,
   "id": "0e468acc-182f-4ef3-8490-a591c6b35613",
   "metadata": {},
   "outputs": [],
   "source": [
    "scheduler = torch.optim.lr_scheduler.StepLR(optimizer, step_size=25, gamma=0.5)"
   ]
  },
  {
   "cell_type": "code",
   "execution_count": 23,
   "id": "4a1028f8",
   "metadata": {},
   "outputs": [
    {
     "name": "stdout",
     "output_type": "stream",
     "text": [
      "Epoch 1 | Train Loss = 1.8443 | Test loss = 1.8179 | Train Accuracy = 0.5484 | Test Accuracy = 0.5569 | LR = 6.250e-05\n",
      "Epoch 2 | Train Loss = 1.8377 | Test loss = 1.8148 | Train Accuracy = 0.5497 | Test Accuracy = 0.5554 | LR = 6.250e-05\n",
      "Epoch 3 | Train Loss = 1.8332 | Test loss = 1.8227 | Train Accuracy = 0.5514 | Test Accuracy = 0.5556 | LR = 6.250e-05\n",
      "Epoch 4 | Train Loss = 1.8312 | Test loss = 1.8114 | Train Accuracy = 0.5520 | Test Accuracy = 0.5577 | LR = 6.250e-05\n",
      "Epoch 5 | Train Loss = 1.8419 | Test loss = 1.8107 | Train Accuracy = 0.5472 | Test Accuracy = 0.5584 | LR = 6.250e-05\n",
      "Epoch 6 | Train Loss = 1.8304 | Test loss = 1.8067 | Train Accuracy = 0.5523 | Test Accuracy = 0.5586 | LR = 6.250e-05\n",
      "Epoch 7 | Train Loss = 1.8294 | Test loss = 1.8074 | Train Accuracy = 0.5526 | Test Accuracy = 0.5581 | LR = 6.250e-05\n",
      "Epoch 8 | Train Loss = 1.8266 | Test loss = 1.8064 | Train Accuracy = 0.5531 | Test Accuracy = 0.5569 | LR = 6.250e-05\n",
      "Epoch 9 | Train Loss = 1.8258 | Test loss = 1.8035 | Train Accuracy = 0.5513 | Test Accuracy = 0.5603 | LR = 6.250e-05\n",
      "Epoch 10 | Train Loss = 1.8239 | Test loss = 1.8043 | Train Accuracy = 0.5537 | Test Accuracy = 0.5589 | LR = 6.250e-05\n",
      "Epoch 11 | Train Loss = 1.8237 | Test loss = 1.8016 | Train Accuracy = 0.5517 | Test Accuracy = 0.5612 | LR = 6.250e-05\n",
      "Epoch 12 | Train Loss = 1.8219 | Test loss = 1.8096 | Train Accuracy = 0.5542 | Test Accuracy = 0.5582 | LR = 6.250e-05\n",
      "Epoch 13 | Train Loss = 1.8213 | Test loss = 1.8079 | Train Accuracy = 0.5546 | Test Accuracy = 0.5564 | LR = 6.250e-05\n",
      "Epoch 14 | Train Loss = 1.8252 | Test loss = 1.7960 | Train Accuracy = 0.5539 | Test Accuracy = 0.5627 | LR = 6.250e-05\n",
      "Epoch 15 | Train Loss = 1.8149 | Test loss = 1.7954 | Train Accuracy = 0.5566 | Test Accuracy = 0.5596 | LR = 6.250e-05\n",
      "Epoch 16 | Train Loss = 1.8134 | Test loss = 1.7911 | Train Accuracy = 0.5569 | Test Accuracy = 0.5629 | LR = 6.250e-05\n",
      "Epoch 17 | Train Loss = 1.8117 | Test loss = 1.8061 | Train Accuracy = 0.5561 | Test Accuracy = 0.5607 | LR = 6.250e-05\n",
      "Epoch 18 | Train Loss = 1.8100 | Test loss = 1.8023 | Train Accuracy = 0.5562 | Test Accuracy = 0.5607 | LR = 6.250e-05\n",
      "Epoch 19 | Train Loss = 1.8116 | Test loss = 1.7868 | Train Accuracy = 0.5578 | Test Accuracy = 0.5654 | LR = 6.250e-05\n",
      "Epoch 20 | Train Loss = 1.8105 | Test loss = 1.7905 | Train Accuracy = 0.5586 | Test Accuracy = 0.5620 | LR = 6.250e-05\n",
      "Epoch 21 | Train Loss = 1.8130 | Test loss = 1.7878 | Train Accuracy = 0.5577 | Test Accuracy = 0.5612 | LR = 6.250e-05\n",
      "Epoch 22 | Train Loss = 1.8092 | Test loss = 1.7837 | Train Accuracy = 0.5570 | Test Accuracy = 0.5636 | LR = 6.250e-05\n",
      "Epoch 23 | Train Loss = 1.8082 | Test loss = 1.7830 | Train Accuracy = 0.5570 | Test Accuracy = 0.5650 | LR = 6.250e-05\n",
      "Epoch 24 | Train Loss = 1.7992 | Test loss = 1.7858 | Train Accuracy = 0.5600 | Test Accuracy = 0.5664 | LR = 6.250e-05\n",
      "Epoch 25 | Train Loss = 1.8033 | Test loss = 1.7836 | Train Accuracy = 0.5584 | Test Accuracy = 0.5649 | LR = 3.125e-05\n",
      "Epoch 26 | Train Loss = 1.7794 | Test loss = 1.7647 | Train Accuracy = 0.5660 | Test Accuracy = 0.5714 | LR = 3.125e-05\n",
      "Epoch 27 | Train Loss = 1.7791 | Test loss = 1.7649 | Train Accuracy = 0.5668 | Test Accuracy = 0.5711 | LR = 3.125e-05\n",
      "Epoch 28 | Train Loss = 1.7761 | Test loss = 1.7614 | Train Accuracy = 0.5679 | Test Accuracy = 0.5708 | LR = 3.125e-05\n",
      "Epoch 29 | Train Loss = 1.7750 | Test loss = 1.7637 | Train Accuracy = 0.5673 | Test Accuracy = 0.5694 | LR = 3.125e-05\n",
      "Epoch 30 | Train Loss = 1.7723 | Test loss = 1.7597 | Train Accuracy = 0.5667 | Test Accuracy = 0.5725 | LR = 3.125e-05\n",
      "Epoch 31 | Train Loss = 1.7731 | Test loss = 1.7659 | Train Accuracy = 0.5680 | Test Accuracy = 0.5712 | LR = 3.125e-05\n",
      "Epoch 32 | Train Loss = 1.7706 | Test loss = 1.7624 | Train Accuracy = 0.5684 | Test Accuracy = 0.5728 | LR = 3.125e-05\n",
      "Epoch 33 | Train Loss = 1.7698 | Test loss = 1.7615 | Train Accuracy = 0.5694 | Test Accuracy = 0.5711 | LR = 3.125e-05\n",
      "Epoch 34 | Train Loss = 1.7705 | Test loss = 1.7582 | Train Accuracy = 0.5669 | Test Accuracy = 0.5731 | LR = 3.125e-05\n",
      "Epoch 35 | Train Loss = 1.7695 | Test loss = 1.7576 | Train Accuracy = 0.5694 | Test Accuracy = 0.5732 | LR = 3.125e-05\n",
      "Epoch 36 | Train Loss = 1.7693 | Test loss = 1.7529 | Train Accuracy = 0.5685 | Test Accuracy = 0.5733 | LR = 3.125e-05\n",
      "Epoch 37 | Train Loss = 1.7689 | Test loss = 1.7539 | Train Accuracy = 0.5685 | Test Accuracy = 0.5732 | LR = 3.125e-05\n",
      "Epoch 38 | Train Loss = 1.7664 | Test loss = 1.7542 | Train Accuracy = 0.5716 | Test Accuracy = 0.5737 | LR = 3.125e-05\n",
      "Epoch 39 | Train Loss = 1.7646 | Test loss = 1.7504 | Train Accuracy = 0.5710 | Test Accuracy = 0.5743 | LR = 3.125e-05\n",
      "Epoch 40 | Train Loss = 1.7634 | Test loss = 1.7606 | Train Accuracy = 0.5718 | Test Accuracy = 0.5745 | LR = 3.125e-05\n",
      "Epoch 41 | Train Loss = 1.7660 | Test loss = 1.7525 | Train Accuracy = 0.5702 | Test Accuracy = 0.5734 | LR = 3.125e-05\n",
      "Epoch 42 | Train Loss = 1.7643 | Test loss = 1.7544 | Train Accuracy = 0.5707 | Test Accuracy = 0.5722 | LR = 3.125e-05\n",
      "Epoch 43 | Train Loss = 1.7627 | Test loss = 1.7551 | Train Accuracy = 0.5721 | Test Accuracy = 0.5736 | LR = 3.125e-05\n",
      "Epoch 44 | Train Loss = 1.7623 | Test loss = 1.7513 | Train Accuracy = 0.5699 | Test Accuracy = 0.5751 | LR = 3.125e-05\n",
      "Epoch 45 | Train Loss = 1.7619 | Test loss = 1.7502 | Train Accuracy = 0.5718 | Test Accuracy = 0.5750 | LR = 3.125e-05\n",
      "Epoch 46 | Train Loss = 1.7534 | Test loss = 1.7462 | Train Accuracy = 0.5725 | Test Accuracy = 0.5754 | LR = 3.125e-05\n",
      "Epoch 47 | Train Loss = 1.7585 | Test loss = 1.7503 | Train Accuracy = 0.5716 | Test Accuracy = 0.5758 | LR = 3.125e-05\n",
      "Epoch 48 | Train Loss = 1.7601 | Test loss = 1.7502 | Train Accuracy = 0.5717 | Test Accuracy = 0.5753 | LR = 3.125e-05\n",
      "Epoch 49 | Train Loss = 1.7591 | Test loss = 1.7512 | Train Accuracy = 0.5725 | Test Accuracy = 0.5724 | LR = 3.125e-05\n",
      "Epoch 50 | Train Loss = 1.7586 | Test loss = 1.7457 | Train Accuracy = 0.5711 | Test Accuracy = 0.5771 | LR = 1.563e-05\n",
      "Epoch 51 | Train Loss = 1.7471 | Test loss = 1.7414 | Train Accuracy = 0.5737 | Test Accuracy = 0.5774 | LR = 1.563e-05\n",
      "Epoch 52 | Train Loss = 1.7444 | Test loss = 1.7414 | Train Accuracy = 0.5783 | Test Accuracy = 0.5781 | LR = 1.563e-05\n",
      "Epoch 53 | Train Loss = 1.7435 | Test loss = 1.7384 | Train Accuracy = 0.5759 | Test Accuracy = 0.5791 | LR = 1.563e-05\n",
      "Epoch 54 | Train Loss = 1.7469 | Test loss = 1.7375 | Train Accuracy = 0.5744 | Test Accuracy = 0.5793 | LR = 1.563e-05\n",
      "Epoch 55 | Train Loss = 1.7438 | Test loss = 1.7385 | Train Accuracy = 0.5749 | Test Accuracy = 0.5792 | LR = 1.563e-05\n",
      "Epoch 56 | Train Loss = 1.7408 | Test loss = 1.7370 | Train Accuracy = 0.5781 | Test Accuracy = 0.5766 | LR = 1.563e-05\n",
      "Epoch 57 | Train Loss = 1.7454 | Test loss = 1.7309 | Train Accuracy = 0.5776 | Test Accuracy = 0.5806 | LR = 1.563e-05\n",
      "Epoch 58 | Train Loss = 1.7393 | Test loss = 1.7387 | Train Accuracy = 0.5783 | Test Accuracy = 0.5783 | LR = 1.563e-05\n",
      "Epoch 59 | Train Loss = 1.7412 | Test loss = 1.7338 | Train Accuracy = 0.5758 | Test Accuracy = 0.5799 | LR = 1.563e-05\n",
      "Epoch 60 | Train Loss = 1.7423 | Test loss = 1.7375 | Train Accuracy = 0.5760 | Test Accuracy = 0.5781 | LR = 1.563e-05\n",
      "Epoch 61 | Train Loss = 1.7373 | Test loss = 1.7350 | Train Accuracy = 0.5778 | Test Accuracy = 0.5797 | LR = 1.563e-05\n",
      "Epoch 62 | Train Loss = 1.7400 | Test loss = 1.7325 | Train Accuracy = 0.5774 | Test Accuracy = 0.5802 | LR = 1.563e-05\n",
      "Epoch 63 | Train Loss = 1.7381 | Test loss = 1.7307 | Train Accuracy = 0.5787 | Test Accuracy = 0.5798 | LR = 1.563e-05\n",
      "Epoch 64 | Train Loss = 1.7372 | Test loss = 1.7330 | Train Accuracy = 0.5777 | Test Accuracy = 0.5801 | LR = 1.563e-05\n",
      "Epoch 65 | Train Loss = 1.7381 | Test loss = 1.7321 | Train Accuracy = 0.5771 | Test Accuracy = 0.5802 | LR = 1.563e-05\n",
      "Epoch 66 | Train Loss = 1.7373 | Test loss = 1.7314 | Train Accuracy = 0.5766 | Test Accuracy = 0.5788 | LR = 1.563e-05\n",
      "Epoch 67 | Train Loss = 1.7352 | Test loss = 1.7307 | Train Accuracy = 0.5797 | Test Accuracy = 0.5797 | LR = 1.563e-05\n",
      "Epoch 68 | Train Loss = 1.7403 | Test loss = 1.7318 | Train Accuracy = 0.5779 | Test Accuracy = 0.5820 | LR = 1.563e-05\n",
      "Epoch 69 | Train Loss = 1.7370 | Test loss = 1.7288 | Train Accuracy = 0.5779 | Test Accuracy = 0.5817 | LR = 1.563e-05\n",
      "Epoch 70 | Train Loss = 1.7357 | Test loss = 1.7284 | Train Accuracy = 0.5794 | Test Accuracy = 0.5796 | LR = 1.563e-05\n",
      "Epoch 71 | Train Loss = 1.7353 | Test loss = 1.7309 | Train Accuracy = 0.5780 | Test Accuracy = 0.5818 | LR = 1.563e-05\n",
      "Epoch 72 | Train Loss = 1.7351 | Test loss = 1.7298 | Train Accuracy = 0.5777 | Test Accuracy = 0.5812 | LR = 1.563e-05\n",
      "Epoch 73 | Train Loss = 1.7384 | Test loss = 1.7273 | Train Accuracy = 0.5779 | Test Accuracy = 0.5817 | LR = 1.563e-05\n",
      "Epoch 74 | Train Loss = 1.7349 | Test loss = 1.7276 | Train Accuracy = 0.5797 | Test Accuracy = 0.5802 | LR = 1.563e-05\n",
      "Epoch 75 | Train Loss = 1.7354 | Test loss = 1.7270 | Train Accuracy = 0.5794 | Test Accuracy = 0.5811 | LR = 7.813e-06\n",
      "Epoch 76 | Train Loss = 1.7313 | Test loss = 1.7256 | Train Accuracy = 0.5810 | Test Accuracy = 0.5815 | LR = 7.813e-06\n",
      "Epoch 77 | Train Loss = 1.7287 | Test loss = 1.7253 | Train Accuracy = 0.5811 | Test Accuracy = 0.5809 | LR = 7.813e-06\n",
      "Epoch 78 | Train Loss = 1.7260 | Test loss = 1.7196 | Train Accuracy = 0.5812 | Test Accuracy = 0.5843 | LR = 7.813e-06\n",
      "Epoch 79 | Train Loss = 1.7275 | Test loss = 1.7255 | Train Accuracy = 0.5807 | Test Accuracy = 0.5820 | LR = 7.813e-06\n",
      "Epoch 80 | Train Loss = 1.7253 | Test loss = 1.7226 | Train Accuracy = 0.5810 | Test Accuracy = 0.5821 | LR = 7.813e-06\n",
      "Epoch 81 | Train Loss = 1.7283 | Test loss = 1.7253 | Train Accuracy = 0.5792 | Test Accuracy = 0.5810 | LR = 7.813e-06\n",
      "Epoch 82 | Train Loss = 1.7246 | Test loss = 1.7212 | Train Accuracy = 0.5803 | Test Accuracy = 0.5845 | LR = 7.813e-06\n",
      "Epoch 83 | Train Loss = 1.7283 | Test loss = 1.7249 | Train Accuracy = 0.5813 | Test Accuracy = 0.5836 | LR = 7.813e-06\n",
      "Epoch 84 | Train Loss = 1.7256 | Test loss = 1.7205 | Train Accuracy = 0.5803 | Test Accuracy = 0.5833 | LR = 7.813e-06\n",
      "Epoch 85 | Train Loss = 1.7299 | Test loss = 1.7201 | Train Accuracy = 0.5805 | Test Accuracy = 0.5842 | LR = 7.813e-06\n",
      "Epoch 86 | Train Loss = 1.7275 | Test loss = 1.7207 | Train Accuracy = 0.5813 | Test Accuracy = 0.5837 | LR = 7.813e-06\n",
      "Epoch 87 | Train Loss = 1.7286 | Test loss = 1.7220 | Train Accuracy = 0.5817 | Test Accuracy = 0.5829 | LR = 7.813e-06\n",
      "Epoch 88 | Train Loss = 1.7247 | Test loss = 1.7229 | Train Accuracy = 0.5829 | Test Accuracy = 0.5837 | LR = 7.813e-06\n",
      "Epoch 89 | Train Loss = 1.7258 | Test loss = 1.7232 | Train Accuracy = 0.5824 | Test Accuracy = 0.5835 | LR = 7.813e-06\n",
      "Epoch 90 | Train Loss = 1.7267 | Test loss = 1.7208 | Train Accuracy = 0.5831 | Test Accuracy = 0.5833 | LR = 7.813e-06\n",
      "Epoch 91 | Train Loss = 1.7246 | Test loss = 1.7236 | Train Accuracy = 0.5836 | Test Accuracy = 0.5816 | LR = 7.813e-06\n",
      "Epoch 92 | Train Loss = 1.7262 | Test loss = 1.7220 | Train Accuracy = 0.5820 | Test Accuracy = 0.5846 | LR = 7.813e-06\n",
      "Epoch 93 | Train Loss = 1.7235 | Test loss = 1.7234 | Train Accuracy = 0.5822 | Test Accuracy = 0.5836 | LR = 7.813e-06\n",
      "Epoch 94 | Train Loss = 1.7217 | Test loss = 1.7197 | Train Accuracy = 0.5825 | Test Accuracy = 0.5822 | LR = 7.813e-06\n",
      "Epoch 95 | Train Loss = 1.7245 | Test loss = 1.7218 | Train Accuracy = 0.5822 | Test Accuracy = 0.5816 | LR = 7.813e-06\n",
      "Epoch 96 | Train Loss = 1.7233 | Test loss = 1.7186 | Train Accuracy = 0.5816 | Test Accuracy = 0.5842 | LR = 7.813e-06\n",
      "Epoch 97 | Train Loss = 1.7239 | Test loss = 1.7216 | Train Accuracy = 0.5814 | Test Accuracy = 0.5831 | LR = 7.813e-06\n",
      "Epoch 98 | Train Loss = 1.7234 | Test loss = 1.7180 | Train Accuracy = 0.5832 | Test Accuracy = 0.5840 | LR = 7.813e-06\n",
      "Epoch 99 | Train Loss = 1.7226 | Test loss = 1.7213 | Train Accuracy = 0.5808 | Test Accuracy = 0.5823 | LR = 7.813e-06\n",
      "Epoch 100 | Train Loss = 1.7231 | Test loss = 1.7177 | Train Accuracy = 0.5827 | Test Accuracy = 0.5856 | LR = 3.906e-06\n"
     ]
    }
   ],
   "source": [
    "n_epochs = 100\n",
    "train_losses, test_losses = train(\n",
    "    model, \n",
    "    optimizer, \n",
    "    train_loader, \n",
    "    test_loader, \n",
    "    n_epochs=n_epochs,\n",
    "    scheduler=scheduler,\n",
    "    print_every=1\n",
    ")"
   ]
  },
  {
   "cell_type": "code",
   "execution_count": 25,
   "id": "88f0009f-51ca-481d-82e8-d166640d9497",
   "metadata": {},
   "outputs": [
    {
     "data": {
      "image/png": "[encoded data removed]",
      "text/plain": [
       "<Figure size 800x500 with 1 Axes>"
      ]
     },
     "metadata": {},
     "output_type": "display_data"
    }
   ],
   "source": [
    "_, ax = plt.subplots(1, 1, figsize=(8, 5))\n",
    "ax.plot(range(1, n_epochs + 1), train_losses, label='Train loss')\n",
    "ax.plot(range(1, n_epochs + 1), test_losses, label='Test loss')\n",
    "ax.set_xlabel('Epoch')\n",
    "ax.set_ylabel('Loss')\n",
    "ax.legend()\n",
    "\n",
    "plt.show()"
   ]
  },
  {
   "cell_type": "code",
   "execution_count": 31,
   "id": "cca5f254-4533-43c1-b318-743ae41b66a6",
   "metadata": {},
   "outputs": [],
   "source": [
    "torch.save(model.state_dict(), os.path.join(\"models\", \"vae_latent50.pt\"))"
   ]
  },
  {
   "cell_type": "markdown",
   "id": "ed7d0880",
   "metadata": {
    "jp-MarkdownHeadingCollapsed": true
   },
   "source": [
    "# Flory"
   ]
  },
  {
   "cell_type": "code",
   "execution_count": 5,
   "id": "b90e2278",
   "metadata": {},
   "outputs": [],
   "source": [
    "n_components = 2\n",
    "objective = FloryHuggins(n_components)\n",
    "objective.set_size(0, 1)\n",
    "objective.set_pairwise(0, 1, 3.0)"
   ]
  },
  {
   "cell_type": "code",
   "execution_count": 6,
   "id": "0b1dd5a5",
   "metadata": {},
   "outputs": [
    {
     "data": {
      "image/png": "[encoded data removed]",
      "text/plain": [
       "<Figure size 640x480 with 1 Axes>"
      ]
     },
     "metadata": {},
     "output_type": "display_data"
    }
   ],
   "source": [
    "n = 1000\n",
    "\n",
    "x0 = torch.linspace(0.0, 1.0, n)\n",
    "x1 = 1.0 - x0\n",
    "\n",
    "x = torch.stack([x0, x1], dim=1)\n",
    "y = objective(x)\n",
    "\n",
    "plt.scatter(x[:,1], y)\n",
    "plt.show()"
   ]
  }
 ],
 "metadata": {
  "kernelspec": {
   "display_name": "Python 3 (ipykernel)",
   "language": "python",
   "name": "python3"
  },
  "language_info": {
   "codemirror_mode": {
    "name": "ipython",
    "version": 3
   },
   "file_extension": ".py",
   "mimetype": "text/x-python",
   "name": "python",
   "nbconvert_exporter": "python",
   "pygments_lexer": "ipython3",
   "version": "3.11.4"
  }
 },
 "nbformat": 4,
 "nbformat_minor": 5
}
