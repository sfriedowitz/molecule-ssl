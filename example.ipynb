{
 "cells": [
  {
   "cell_type": "markdown",
   "id": "64746ab6-76fa-4ae4-8867-5d51c740b75f",
   "metadata": {},
   "source": [
    "# Imports"
   ]
  },
  {
   "cell_type": "code",
   "execution_count": 1,
   "id": "cc33a0d4-56c2-400a-86d8-9662335de563",
   "metadata": {},
   "outputs": [],
   "source": [
    "%load_ext autoreload\n",
    "%autoreload 2"
   ]
  },
  {
   "cell_type": "code",
   "execution_count": 2,
   "id": "c5404831-f808-4f7a-a9ea-a554a0ad85e5",
   "metadata": {},
   "outputs": [],
   "source": [
    "import os\n",
    "from tqdm import tqdm\n",
    "import numpy as np\n",
    "import pandas as pd\n",
    "\n",
    "import selfies as sf\n",
    "from rdkit import Chem\n",
    "from rdkit.Chem import Descriptors\n",
    "\n",
    "import torch\n",
    "import torch.nn.functional as F\n",
    "import botorch\n",
    "import gpytorch\n",
    "\n",
    "from src.selfies import SelfiesEncoder\n",
    "from src.vae import MolecularVAE\n",
    "from src.train import VAELoss, train_vae\n",
    "from src.transforms import StandardScaler, UnitCubeScaler\n",
    "from src.molecules import penalized_logp"
   ]
  },
  {
   "cell_type": "code",
   "execution_count": 3,
   "id": "12580e9d",
   "metadata": {},
   "outputs": [],
   "source": [
    "import seaborn as sns\n",
    "import matplotlib.pyplot as plt\n",
    "\n",
    "sns.set(palette='colorblind', font_scale=1.3)\n",
    "palette = sns.color_palette()"
   ]
  },
  {
   "cell_type": "markdown",
   "id": "0a37cf5a",
   "metadata": {
    "jp-MarkdownHeadingCollapsed": true
   },
   "source": [
    "# Preprocessing"
   ]
  },
  {
   "cell_type": "markdown",
   "id": "71e42145",
   "metadata": {},
   "source": [
    "Download raw dataset:"
   ]
  },
  {
   "cell_type": "code",
   "execution_count": 7,
   "id": "5421052d",
   "metadata": {},
   "outputs": [],
   "source": [
    "dataset_url = \"https://deepchemdata.s3-us-west-1.amazonaws.com/datasets/qm9.csv\"\n",
    "\n",
    "raw_df = pd.read_csv(dataset_url)\n",
    "raw_df.to_csv(os.path.join(\"data\", \"qm9_raw.csv\"), index=False)"
   ]
  },
  {
   "cell_type": "markdown",
   "id": "02d405bf",
   "metadata": {},
   "source": [
    "Add selfies encoding to raw data:"
   ]
  },
  {
   "cell_type": "code",
   "execution_count": 9,
   "id": "48f2fe62",
   "metadata": {},
   "outputs": [],
   "source": [
    "df = pd.read_csv(os.path.join(\"data\", \"qm9_raw.csv\"))\n",
    "\n",
    "df[\"selfies\"] = [sf.encoder(x, strict=False) for x in df.smiles]\n",
    "df[\"penalized_logp\"] = [penalized_logp(Chem.MolFromSmiles(s)) for s in df.smiles]\n",
    "df = df[[\"mol_id\", \"smiles\", \"selfies\", \"penalized_logp\"]]\n",
    "\n",
    "df.to_csv(os.path.join(\"data\", \"qm9_processed.csv\"), index=False)"
   ]
  },
  {
   "cell_type": "markdown",
   "id": "6681f11c",
   "metadata": {},
   "source": [
    "Generate one-hot enocding for selfies strings:"
   ]
  },
  {
   "cell_type": "code",
   "execution_count": 33,
   "id": "4489efa8-e8ca-4dc8-a65d-ef78622ad3f0",
   "metadata": {},
   "outputs": [
    {
     "data": {
      "text/html": [
       "<div>\n",
       "<style scoped>\n",
       "    .dataframe tbody tr th:only-of-type {\n",
       "        vertical-align: middle;\n",
       "    }\n",
       "\n",
       "    .dataframe tbody tr th {\n",
       "        vertical-align: top;\n",
       "    }\n",
       "\n",
       "    .dataframe thead th {\n",
       "        text-align: right;\n",
       "    }\n",
       "</style>\n",
       "<table border=\"1\" class=\"dataframe\">\n",
       "  <thead>\n",
       "    <tr style=\"text-align: right;\">\n",
       "      <th></th>\n",
       "      <th>mol_id</th>\n",
       "      <th>smiles</th>\n",
       "      <th>selfies</th>\n",
       "      <th>penalized_logp</th>\n",
       "    </tr>\n",
       "  </thead>\n",
       "  <tbody>\n",
       "    <tr>\n",
       "      <th>0</th>\n",
       "      <td>gdb_1</td>\n",
       "      <td>C</td>\n",
       "      <td>[C]</td>\n",
       "      <td>-6.692315</td>\n",
       "    </tr>\n",
       "    <tr>\n",
       "      <th>1</th>\n",
       "      <td>gdb_2</td>\n",
       "      <td>N</td>\n",
       "      <td>[N]</td>\n",
       "      <td>-6.505815</td>\n",
       "    </tr>\n",
       "    <tr>\n",
       "      <th>2</th>\n",
       "      <td>gdb_3</td>\n",
       "      <td>O</td>\n",
       "      <td>[O]</td>\n",
       "      <td>-6.693177</td>\n",
       "    </tr>\n",
       "    <tr>\n",
       "      <th>3</th>\n",
       "      <td>gdb_4</td>\n",
       "      <td>C#C</td>\n",
       "      <td>[C][#C]</td>\n",
       "      <td>-4.531245</td>\n",
       "    </tr>\n",
       "    <tr>\n",
       "      <th>4</th>\n",
       "      <td>gdb_5</td>\n",
       "      <td>C#N</td>\n",
       "      <td>[C][#N]</td>\n",
       "      <td>-3.886065</td>\n",
       "    </tr>\n",
       "  </tbody>\n",
       "</table>\n",
       "</div>"
      ],
      "text/plain": [
       "  mol_id smiles  selfies  penalized_logp\n",
       "0  gdb_1      C      [C]       -6.692315\n",
       "1  gdb_2      N      [N]       -6.505815\n",
       "2  gdb_3      O      [O]       -6.693177\n",
       "3  gdb_4    C#C  [C][#C]       -4.531245\n",
       "4  gdb_5    C#N  [C][#N]       -3.886065"
      ]
     },
     "execution_count": 33,
     "metadata": {},
     "output_type": "execute_result"
    }
   ],
   "source": [
    "df = pd.read_csv(os.path.join(\"data\", \"qm9_processed.csv\"))\n",
    "df.head()"
   ]
  },
  {
   "cell_type": "code",
   "execution_count": 11,
   "id": "e9ac9bb6",
   "metadata": {},
   "outputs": [],
   "source": [
    "selfies = df.selfies\n",
    "selfies_encoder = SelfiesEncoder.build(selfies)"
   ]
  },
  {
   "cell_type": "code",
   "execution_count": 13,
   "id": "41163ab3",
   "metadata": {},
   "outputs": [
    {
     "name": "stderr",
     "output_type": "stream",
     "text": [
      "100%|██████████████████████████████████████████████████████████████████████████████████████████| 133885/133885 [00:03<00:00, 37140.54it/s]\n"
     ]
    }
   ],
   "source": [
    "one_hots = []\n",
    "for s in tqdm(selfies):\n",
    "    one_hots.append(selfies_encoder.encode_one_hot(s))\n",
    "one_hots = torch.tensor(one_hots)\n",
    "torch.save(one_hots, os.path.join(\"data\", \"qm9_encodings.pt\"))"
   ]
  },
  {
   "cell_type": "code",
   "execution_count": 44,
   "id": "94de01f1-e0f3-45c2-a044-fdbc45a6c18e",
   "metadata": {},
   "outputs": [],
   "source": [
    "targets = torch.tensor(df.penalized_logp)\n",
    "targets = targets.view(-1, 1)\n",
    "\n",
    "torch.save(targets, os.path.join(\"data\", \"qm9_targets.pt\"))"
   ]
  },
  {
   "cell_type": "markdown",
   "id": "65eab2dc",
   "metadata": {},
   "source": [
    "# VAE"
   ]
  },
  {
   "cell_type": "markdown",
   "id": "74694c02-d59d-4149-9404-dd584021c6fb",
   "metadata": {},
   "source": [
    "## Training"
   ]
  },
  {
   "cell_type": "code",
   "execution_count": 39,
   "id": "12dc7e24",
   "metadata": {},
   "outputs": [],
   "source": [
    "torch.manual_seed(42)\n",
    "device = device = 'cuda' if torch.cuda.is_available() else 'cpu'\n",
    "\n",
    "x = torch.load(os.path.join(\"data\", \"qm9_encodings.pt\"))\n",
    "y = torch.load(os.path.join(\"data\", \"qm9_targets.pt\"))\n",
    "x = x.float().to(device)\n",
    "y = y.float().to(device)\n",
    "\n",
    "full_dataset =  torch.utils.data.TensorDataset(x, y)\n",
    "\n",
    "test_frac = 0.1\n",
    "test_size = int(test_frac * len(x))\n",
    "train_size = len(x) - test_size\n",
    "\n",
    "train_dataset, test_dataset = torch.utils.data.random_split(full_dataset, [train_size, test_size])"
   ]
  },
  {
   "cell_type": "code",
   "execution_count": 40,
   "id": "d1503849-0892-4437-9a71-32219f448eee",
   "metadata": {},
   "outputs": [],
   "source": [
    "batch_size = 250\n",
    "\n",
    "train_loader = torch.utils.data.DataLoader(train_dataset, batch_size=batch_size, shuffle=True)\n",
    "test_loader = torch.utils.data.DataLoader(test_dataset, batch_size=batch_size, shuffle=True)"
   ]
  },
  {
   "cell_type": "code",
   "execution_count": 41,
   "id": "0560f14e-f840-438f-b1c0-7e9dd6799529",
   "metadata": {},
   "outputs": [
    {
     "name": "stdout",
     "output_type": "stream",
     "text": [
      "# Parameters = 4033486\n"
     ]
    },
    {
     "data": {
      "text/plain": [
       "MolecularVAE(\n",
       "  (encoder_conv): Sequential(\n",
       "    (0): Conv1d(29, 9, kernel_size=(9,), stride=(1,), padding=(2,))\n",
       "    (1): ReLU()\n",
       "    (2): Conv1d(9, 9, kernel_size=(9,), stride=(1,), padding=(2,))\n",
       "    (3): ReLU()\n",
       "    (4): Conv1d(9, 10, kernel_size=(10,), stride=(1,), padding=(2,))\n",
       "    (5): ReLU()\n",
       "  )\n",
       "  (encoder_linear): Sequential(\n",
       "    (0): Linear(in_features=80, out_features=400, bias=True)\n",
       "    (1): SELU()\n",
       "  )\n",
       "  (encoder_mean): Linear(in_features=400, out_features=50, bias=True)\n",
       "  (encoder_logvar): Linear(in_features=400, out_features=50, bias=True)\n",
       "  (decoder_linear): Sequential(\n",
       "    (0): Linear(in_features=50, out_features=50, bias=True)\n",
       "    (1): SELU()\n",
       "  )\n",
       "  (decoder_gru): GRU(50, 500, num_layers=3, batch_first=True)\n",
       "  (decoder_output): Linear(in_features=500, out_features=29, bias=True)\n",
       "  (mlp): Sequential(\n",
       "    (0): Linear(in_features=50, out_features=300, bias=True)\n",
       "    (1): ReLU()\n",
       "    (2): Linear(in_features=300, out_features=300, bias=True)\n",
       "    (3): ReLU()\n",
       "    (4): Linear(in_features=300, out_features=1, bias=True)\n",
       "  )\n",
       ")"
      ]
     },
     "execution_count": 41,
     "metadata": {},
     "output_type": "execute_result"
    }
   ],
   "source": [
    "latent_size = 50\n",
    "model = MolecularVAE(latent_size=latent_size)\n",
    "model.to(device)\n",
    "\n",
    "print(f\"# Parameters = {model.n_parameters()}\")\n",
    "model"
   ]
  },
  {
   "cell_type": "code",
   "execution_count": 42,
   "id": "403cd55b-8cdc-4478-ac18-457a496fc672",
   "metadata": {},
   "outputs": [],
   "source": [
    "include_mse = False\n",
    "criterion = VAELoss(include_mse = include_mse)\n",
    "\n",
    "learning_rate = 1e-3\n",
    "optimizer = torch.optim.Adam(\n",
    "    model.parameters(), \n",
    "    lr=learning_rate, \n",
    "    weight_decay=1e-5 ,\n",
    ")\n",
    "\n",
    "scheduler = torch.optim.lr_scheduler.MultiStepLR(\n",
    "    optimizer,\n",
    "    milestones=[20, 40, 70, 100, 150], \n",
    "    gamma=0.5\n",
    ")"
   ]
  },
  {
   "cell_type": "code",
   "execution_count": null,
   "id": "4a1028f8",
   "metadata": {},
   "outputs": [],
   "source": [
    "n_epochs = 200\n",
    "tracker = train_vae(\n",
    "    model, \n",
    "    criterion,\n",
    "    optimizer, \n",
    "    scheduler,\n",
    "    train_loader, \n",
    "    test_loader,\n",
    "    n_epochs=n_epochs,\n",
    "    print_every=1\n",
    ")"
   ]
  },
  {
   "cell_type": "code",
   "execution_count": 28,
   "id": "88f0009f-51ca-481d-82e8-d166640d9497",
   "metadata": {},
   "outputs": [
    {
     "ename": "NameError",
     "evalue": "name 'tracker' is not defined",
     "output_type": "error",
     "traceback": [
      "\u001b[0;31m---------------------------------------------------------------------------\u001b[0m",
      "\u001b[0;31mNameError\u001b[0m                                 Traceback (most recent call last)",
      "Cell \u001b[0;32mIn[28], line 3\u001b[0m\n\u001b[1;32m      1\u001b[0m _, ax \u001b[38;5;241m=\u001b[39m plt\u001b[38;5;241m.\u001b[39msubplots(\u001b[38;5;241m1\u001b[39m, \u001b[38;5;241m3\u001b[39m, figsize\u001b[38;5;241m=\u001b[39m(\u001b[38;5;241m18\u001b[39m, \u001b[38;5;241m5\u001b[39m))\n\u001b[0;32m----> 3\u001b[0m train_elbo \u001b[38;5;241m=\u001b[39m \u001b[43mtracker\u001b[49m\u001b[38;5;241m.\u001b[39mget(\u001b[38;5;124m\"\u001b[39m\u001b[38;5;124mtrain_elbo\u001b[39m\u001b[38;5;124m\"\u001b[39m)\n\u001b[1;32m      4\u001b[0m test_elbo \u001b[38;5;241m=\u001b[39m tracker\u001b[38;5;241m.\u001b[39mget(\u001b[38;5;124m\"\u001b[39m\u001b[38;5;124mtest_elbo\u001b[39m\u001b[38;5;124m\"\u001b[39m)\n\u001b[1;32m      6\u001b[0m train_mse \u001b[38;5;241m=\u001b[39m tracker\u001b[38;5;241m.\u001b[39mget(\u001b[38;5;124m\"\u001b[39m\u001b[38;5;124mtrain_mse\u001b[39m\u001b[38;5;124m\"\u001b[39m)\n",
      "\u001b[0;31mNameError\u001b[0m: name 'tracker' is not defined"
     ]
    },
    {
     "data": {
      "image/png": "[encoded data removed]",
      "text/plain": [
       "<Figure size 1800x500 with 3 Axes>"
      ]
     },
     "metadata": {},
     "output_type": "display_data"
    }
   ],
   "source": [
    "_, ax = plt.subplots(1, 3, figsize=(18, 5))\n",
    "\n",
    "train_elbo = tracker.get(\"train_elbo\")\n",
    "test_elbo = tracker.get(\"test_elbo\")\n",
    "\n",
    "train_mse = tracker.get(\"train_mse\")\n",
    "test_mse = tracker.get(\"test_mse\")\n",
    "\n",
    "train_accuracy = tracker.get(\"train_accuracy\")\n",
    "test_accuracy = tracker.get(\"test_accuracy\")\n",
    "\n",
    "ax[0].plot(train_elbo[:,0], train_elbo[:,1], label='Train')\n",
    "ax[0].plot(test_elbo[:,0], test_elbo[:,1], label='Test')\n",
    "ax[0].set_xlabel('Epoch')\n",
    "ax[0].set_ylabel('ELBO Loss')\n",
    "ax[0].legend()\n",
    "\n",
    "ax[1].plot(train_mse[:,0], train_mse[:,1], label='Train')\n",
    "ax[1].plot(test_mse[:,0], test_mse[:,1], label='Test')\n",
    "ax[1].set_xlabel('Epoch')\n",
    "ax[1].set_ylabel('MSE Loss')\n",
    "ax[1].legend()\n",
    "\n",
    "ax[2].plot(train_accuracy[:,0], train_accuracy[:,1], label='Train')\n",
    "ax[2].plot(test_accuracy[:,0], test_accuracy[:,1], label='Test')\n",
    "ax[2].set_xlabel('Epoch')\n",
    "ax[2].set_ylabel('Accuracy')\n",
    "ax[2].legend()\n",
    "\n",
    "# plt.savefig(os.path.join(\"models\", f\"vae_latent_{latent_size}_mse_{include_mse}.png\"))\n",
    "plt.show()"
   ]
  },
  {
   "cell_type": "code",
   "execution_count": 22,
   "id": "cdd94eff-afc0-4b97-b994-529686cf3fb0",
   "metadata": {},
   "outputs": [],
   "source": [
    "# torch.save(model.state_dict(), os.path.join(\"models\", f\"vae_latent_{latent_size}_mse_{include_mse}.pt\"))"
   ]
  },
  {
   "cell_type": "code",
   "execution_count": 15,
   "id": "9155e76f-2456-45d3-97d6-ccb10b27c45c",
   "metadata": {},
   "outputs": [
    {
     "data": {
      "text/plain": [
       "'true'"
      ]
     },
     "execution_count": 15,
     "metadata": {},
     "output_type": "execute_result"
    }
   ],
   "source": [
    "f\"{str(True).lower()}\""
   ]
  },
  {
   "cell_type": "markdown",
   "id": "3cad422d-c63f-4232-a320-d43cbb294503",
   "metadata": {},
   "source": [
    "## Characterization"
   ]
  },
  {
   "cell_type": "code",
   "execution_count": 93,
   "id": "93c5e80a-cc89-41c9-8c97-798d7e880ef5",
   "metadata": {},
   "outputs": [],
   "source": [
    "df = pd.read_csv(os.path.join(\"data\", \"qm9_processed.csv\"))\n",
    "\n",
    "selfies = list(df.selfies)\n",
    "selfies_encoder = SelfiesEncoder.build(selfies)"
   ]
  },
  {
   "cell_type": "code",
   "execution_count": 136,
   "id": "ad22c42c-f46d-4df9-86cf-83631cd995ae",
   "metadata": {},
   "outputs": [
    {
     "data": {
      "text/plain": [
       "MolecularVAE(\n",
       "  (encoder_conv): Sequential(\n",
       "    (0): Conv1d(29, 9, kernel_size=(9,), stride=(1,), padding=(2,))\n",
       "    (1): ReLU()\n",
       "    (2): Conv1d(9, 9, kernel_size=(9,), stride=(1,), padding=(2,))\n",
       "    (3): ReLU()\n",
       "    (4): Conv1d(9, 10, kernel_size=(10,), stride=(1,), padding=(2,))\n",
       "    (5): ReLU()\n",
       "  )\n",
       "  (encoder_linear): Sequential(\n",
       "    (0): Linear(in_features=80, out_features=400, bias=True)\n",
       "    (1): SELU()\n",
       "  )\n",
       "  (encoder_mean): Linear(in_features=400, out_features=50, bias=True)\n",
       "  (encoder_logvar): Linear(in_features=400, out_features=50, bias=True)\n",
       "  (decoder_linear): Sequential(\n",
       "    (0): Linear(in_features=50, out_features=50, bias=True)\n",
       "    (1): SELU()\n",
       "  )\n",
       "  (decoder_gru): GRU(50, 500, num_layers=3, batch_first=True)\n",
       "  (decoder_output): Linear(in_features=500, out_features=29, bias=True)\n",
       "  (mlp): Sequential(\n",
       "    (0): Linear(in_features=50, out_features=300, bias=True)\n",
       "    (1): ReLU()\n",
       "    (2): Linear(in_features=300, out_features=300, bias=True)\n",
       "    (3): ReLU()\n",
       "    (4): Linear(in_features=300, out_features=1, bias=True)\n",
       "  )\n",
       ")"
      ]
     },
     "execution_count": 136,
     "metadata": {},
     "output_type": "execute_result"
    }
   ],
   "source": [
    "latent_size = 50\n",
    "vae_params = torch.load(os.path.join(\"models\", f\"vae_joint_latent_{latent_size}.pt\"))\n",
    "\n",
    "vae = MolecularVAE(latent_size=latent_size)\n",
    "vae.load_state_dict(vae_params)\n",
    "\n",
    "vae.eval()"
   ]
  },
  {
   "cell_type": "code",
   "execution_count": 159,
   "id": "a94834be-488c-4a29-bae4-72b3fa6fbab3",
   "metadata": {},
   "outputs": [],
   "source": [
    "start_selfie = sf.encoder(\"C\")\n",
    "end_selfie = sf.encoder(\"CC(=O)OC1=CC=CC=C1\")\n",
    "\n",
    "start_x = torch.tensor(selfies_encoder.encode_one_hot(start_selfie), dtype=torch.float32)\n",
    "end_x = torch.tensor(selfies_encoder.encode_one_hot(end_selfie), dtype=torch.float32)\n",
    "\n",
    "interp_x = vae.interpolate(start_x, end_x, 5)\n",
    "interp_x = interp_x\n",
    "\n",
    "\n",
    "interp_selfies = [selfies_encoder.decode_tensor(x) for x in interp_x]\n",
    "interp_mols = [Chem.MolFromSmiles(sf.decoder(s)) for s in interp_selfies]"
   ]
  },
  {
   "cell_type": "code",
   "execution_count": 160,
   "id": "3a85a0aa-349e-49d2-a8c3-0256a606c5e7",
   "metadata": {},
   "outputs": [
    {
     "data": {
      "image/png": "[encoded data removed]",
      "text/plain": [
       "<IPython.core.display.Image object>"
      ]
     },
     "execution_count": 160,
     "metadata": {},
     "output_type": "execute_result"
    }
   ],
   "source": [
    "Chem.Draw.MolsToGridImage(interp_mols, molsPerRow=5)"
   ]
  },
  {
   "cell_type": "markdown",
   "id": "3ce72ec3-b2c7-4f58-978c-ccabac666da2",
   "metadata": {},
   "source": [
    "### Regression"
   ]
  },
  {
   "cell_type": "code",
   "execution_count": 161,
   "id": "93d3d41c-e754-46c3-b80d-8936807060bf",
   "metadata": {},
   "outputs": [],
   "source": [
    "from botorch.models import SingleTaskGP\n",
    "from botorch.fit import fit_gpytorch_mll\n",
    "from botorch.models.transforms.input import Normalize\n",
    "from botorch.models.transforms.outcome import Standardize\n",
    "from gpytorch.mlls import ExactMarginalLogLikelihood\n",
    "\n",
    "from sklearn.metrics import r2_score\n",
    "from sklearn.decomposition import PCA\n",
    "\n",
    "torch.manual_seed(145);"
   ]
  },
  {
   "cell_type": "code",
   "execution_count": 162,
   "id": "489aaae7-061e-4deb-9663-f8a575d056ad",
   "metadata": {},
   "outputs": [
    {
     "data": {
      "text/plain": [
       "torch.Size([2678, 21, 29])"
      ]
     },
     "execution_count": 162,
     "metadata": {},
     "output_type": "execute_result"
    }
   ],
   "source": [
    "x_sample = torch.load(os.path.join(\"data\", \"qm9_encodings.pt\"))\n",
    "x_sample = x_sample[torch.randperm(x_sample.shape[0])]\n",
    "x_sample = x_sample[::50].float()\n",
    "x_sample.shape"
   ]
  },
  {
   "cell_type": "code",
   "execution_count": 163,
   "id": "0079388c-08d9-417e-a113-947f7713629c",
   "metadata": {},
   "outputs": [
    {
     "data": {
      "image/png": "[encoded data removed]",
      "text/plain": [
       "<Figure size 640x480 with 1 Axes>"
      ]
     },
     "metadata": {},
     "output_type": "display_data"
    }
   ],
   "source": [
    "selfies_sample = [selfies_encoder.decode_tensor(xi) for xi in x_sample]\n",
    "mols_sample = [Chem.MolFromSmiles(sf.decoder(s)) for s in selfies_sample]\n",
    "targets_sample = [penalized_logp(m) for m in mols_sample]\n",
    "\n",
    "plt.hist(targets_sample, bins=50, density=True)\n",
    "plt.show()"
   ]
  },
  {
   "cell_type": "code",
   "execution_count": 164,
   "id": "80cb3728-61df-4695-82a7-2e52a50927f1",
   "metadata": {},
   "outputs": [],
   "source": [
    "z = vae.encode(x_sample)[0].detach().double()\n",
    "\n",
    "y = torch.tensor(targets_sample).view(-1, 1).double()"
   ]
  },
  {
   "cell_type": "code",
   "execution_count": 165,
   "id": "5948b0e4-b4e8-4e5a-816c-e7a8364562a8",
   "metadata": {},
   "outputs": [],
   "source": [
    "indices = torch.randperm(z.shape[0])\n",
    "\n",
    "n_train = 1000\n",
    "\n",
    "ind_train = indices[:n_train]\n",
    "ind_test = indices[n_train:]\n",
    "\n",
    "z_train = z[ind_train]\n",
    "z_test = z[ind_test]\n",
    "\n",
    "y_train = y[ind_train]\n",
    "y_test = y[ind_test]\n",
    "\n",
    "input_scaler = UnitCubeScaler.build(z_train)\n",
    "z_train_scaled = input_scaler.transform(z_train)\n",
    "z_test_scaled = input_scaler.transform(z_test)\n",
    "\n",
    "output_scaler = StandardScaler.build(y_train)\n",
    "y_train_scaled = output_scaler.transform(y_train)\n",
    "y_test_scaled = output_scaler.transform(y_test)"
   ]
  },
  {
   "cell_type": "code",
   "execution_count": 166,
   "id": "57cb5017-a2fb-4305-8933-1015e86f7168",
   "metadata": {},
   "outputs": [],
   "source": [
    "gp = SingleTaskGP(z_train_scaled, y_train_scaled)\n",
    "mll = ExactMarginalLogLikelihood(gp.likelihood, gp)"
   ]
  },
  {
   "cell_type": "code",
   "execution_count": 167,
   "id": "78a06acd-b48d-4628-8704-189a1c4ea5f1",
   "metadata": {},
   "outputs": [],
   "source": [
    "mll = fit_gpytorch_mll(mll)"
   ]
  },
  {
   "cell_type": "code",
   "execution_count": 168,
   "id": "a3fe3364-9504-4064-b45d-0d1ce4e7f2f4",
   "metadata": {},
   "outputs": [],
   "source": [
    "mvn = gp(z_test_scaled)\n",
    "\n",
    "y_pred_mean = mvn.mean.detach()"
   ]
  },
  {
   "cell_type": "code",
   "execution_count": 169,
   "id": "97b34458-9320-4baf-88af-f34b9281409b",
   "metadata": {},
   "outputs": [
    {
     "data": {
      "text/plain": [
       "0.843080815440833"
      ]
     },
     "execution_count": 169,
     "metadata": {},
     "output_type": "execute_result"
    }
   ],
   "source": [
    "r2_score(y_test_scaled, y_pred_mean)"
   ]
  },
  {
   "cell_type": "code",
   "execution_count": 170,
   "id": "704646e7-6230-4f09-af0e-0ecea387ef33",
   "metadata": {},
   "outputs": [
    {
     "data": {
      "image/png": "[encoded data removed]",
      "text/plain": [
       "<Figure size 640x480 with 1 Axes>"
      ]
     },
     "metadata": {},
     "output_type": "display_data"
    }
   ],
   "source": [
    "plt.scatter(y_pred_mean, y_test.flatten())\n",
    "\n",
    "plt.show()"
   ]
  },
  {
   "cell_type": "code",
   "execution_count": null,
   "id": "abd36ab7-4888-4c23-920f-2e2e67a801e2",
   "metadata": {},
   "outputs": [],
   "source": []
  }
 ],
 "metadata": {
  "kernelspec": {
   "display_name": "Python 3 (ipykernel)",
   "language": "python",
   "name": "python3"
  },
  "language_info": {
   "codemirror_mode": {
    "name": "ipython",
    "version": 3
   },
   "file_extension": ".py",
   "mimetype": "text/x-python",
   "name": "python",
   "nbconvert_exporter": "python",
   "pygments_lexer": "ipython3",
   "version": "3.11.4"
  }
 },
 "nbformat": 4,
 "nbformat_minor": 5
}
